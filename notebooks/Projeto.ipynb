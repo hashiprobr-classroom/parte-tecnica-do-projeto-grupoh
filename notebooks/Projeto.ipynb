{
 "cells": [
  {
   "cell_type": "markdown",
   "id": "31a0a830",
   "metadata": {},
   "source": [
    "# Projeto de Redes Sociais\n",
    "\n",
    "Cicero Tiago Carneiro Valentim\n",
    "\n",
    "Lais Nascimento da Silva\n",
    "\n",
    "Thalia Loiola da Silva\n",
    "\n",
    "William Augusto Reis da Silva"
   ]
  },
  {
   "cell_type": "markdown",
   "id": "180e40ab",
   "metadata": {},
   "source": [
    "### Bibliotecas"
   ]
  },
  {
   "cell_type": "code",
   "execution_count": 1,
   "id": "78230410",
   "metadata": {},
   "outputs": [
    {
     "data": {
      "text/html": [
       "\n",
       "    <script src=\"/files/netpixi.min.js\"></script>\n"
      ],
      "text/plain": [
       "<IPython.core.display.HTML object>"
      ]
     },
     "metadata": {},
     "output_type": "display_data"
    }
   ],
   "source": [
    "from graph_tool import centrality, clustering, PropertyMap\n",
    "from graph_tool import Graph\n",
    "# from graph_tool.all import graph_draw\n",
    "from netpixi.data.gt import *\n",
    "from netpixi import render, peek\n",
    "import netpixi\n",
    "import pandas as pd\n",
    "import netpixi\n",
    "import numpy as np"
   ]
  },
  {
   "cell_type": "markdown",
   "id": "4bf95402",
   "metadata": {},
   "source": [
    "Às vezes é necessário instalar o openpyxl. Só descomentar:"
   ]
  },
  {
   "cell_type": "code",
   "execution_count": 2,
   "id": "7340f507",
   "metadata": {},
   "outputs": [],
   "source": [
    "# !pip install openpyxl"
   ]
  },
  {
   "cell_type": "markdown",
   "id": "5949fbfc",
   "metadata": {},
   "source": [
    "Lendo o dataset e tirando quando tem valores nulos.\n",
    "\n",
    "Recorte por anos."
   ]
  },
  {
   "cell_type": "code",
   "execution_count": null,
   "id": "e609482c",
   "metadata": {
    "scrolled": false
   },
   "outputs": [],
   "source": [
    "df = pd.read_excel('netflix.xlsx')\n",
    "df.head(2)\n",
    "df = df.dropna(subset=['Genre'])\n",
    "\n",
    "initial_date = np.datetime64('2000-01-01')\n",
    "final_date = np.datetime64('2010-01-01')\n",
    "\n",
    "# df = df[(df['Release Date'] > initial_date) & (df['Release Date'] < final_date)]\n",
    "# df = df.reset_index()\n",
    "df"
   ]
  },
  {
   "cell_type": "markdown",
   "id": "d93a84bd",
   "metadata": {},
   "source": []
  },
  {
   "cell_type": "code",
   "execution_count": null,
   "id": "518d3eb3",
   "metadata": {},
   "outputs": [],
   "source": [
    "LISTA_TITLES = []\n",
    "lista_number = []\n",
    "titles_ind = {}\n",
    "for i in range(len(df)):\n",
    "    if df.loc[i][\"Title\"] not in LISTA_TITLES:\n",
    "        LISTA_TITLES.append(df.loc[i][\"Title\"])\n",
    "        titles_ind[df.loc[i][\"Title\"]] = 1\n",
    "        lista_number.append(1)\n",
    "        \n",
    "    else:\n",
    "        titles_ind[df.loc[i][\"Title\"]] += 1\n",
    "        lista_number.append(titles_ind.get(df.loc[i][\"Title\"]))"
   ]
  },
  {
   "cell_type": "code",
   "execution_count": null,
   "id": "a492c974",
   "metadata": {},
   "outputs": [],
   "source": [
    "len(LISTA_TITLES)"
   ]
  },
  {
   "cell_type": "code",
   "execution_count": null,
   "id": "d00ad850",
   "metadata": {},
   "outputs": [],
   "source": [
    "df[\"qtde\"] = lista_number"
   ]
  },
  {
   "cell_type": "code",
   "execution_count": null,
   "id": "61f6d051",
   "metadata": {},
   "outputs": [],
   "source": [
    "df = df[df[\"qtde\"] == 1]\n",
    "df = df.reset_index()"
   ]
  },
  {
   "cell_type": "code",
   "execution_count": null,
   "id": "ead2a3f1",
   "metadata": {},
   "outputs": [],
   "source": [
    "# df = pd.DataFrame(df)\n",
    "for linha in range(df.shape[0]):\n",
    "    df['Genre'].loc[linha] = [genre.strip() for genre in df['Genre'].loc[linha].split(\",\")] "
   ]
  },
  {
   "cell_type": "code",
   "execution_count": null,
   "id": "ca1879e5",
   "metadata": {
    "scrolled": false
   },
   "outputs": [],
   "source": [
    "titles = df[\"Title\"]\n",
    "titles"
   ]
  },
  {
   "cell_type": "code",
   "execution_count": null,
   "id": "8edf38fe",
   "metadata": {},
   "outputs": [],
   "source": [
    "df"
   ]
  },
  {
   "cell_type": "code",
   "execution_count": null,
   "id": "c915b6e9",
   "metadata": {
    "scrolled": true
   },
   "outputs": [],
   "source": [
    "df = df.explode('Genre')\n",
    "df = df.reset_index(drop=True)"
   ]
  },
  {
   "cell_type": "code",
   "execution_count": null,
   "id": "0da86726",
   "metadata": {},
   "outputs": [],
   "source": [
    "df"
   ]
  },
  {
   "cell_type": "code",
   "execution_count": null,
   "id": "86a8814c",
   "metadata": {},
   "outputs": [],
   "source": [
    "# pega todos os generos existentes do dataset \n",
    "genres = set()\n",
    "for genre in df.Genre:\n",
    "    genres.add(genre)\n",
    "\n",
    "# transforma em lista \n",
    "genres = list(genres)"
   ]
  },
  {
   "cell_type": "code",
   "execution_count": null,
   "id": "7a07d30d",
   "metadata": {},
   "outputs": [],
   "source": [
    "df.head(3)"
   ]
  },
  {
   "cell_type": "markdown",
   "id": "a2a59bc3",
   "metadata": {},
   "source": [
    "## Vértices"
   ]
  },
  {
   "cell_type": "code",
   "execution_count": null,
   "id": "514c867d",
   "metadata": {
    "scrolled": true
   },
   "outputs": [],
   "source": [
    "g = Graph(directed=False)\n",
    "g.vp['name'] = g.new_vp('object')\n",
    "g.vp['bipartite'] = g.new_vp('object')\n",
    "\n",
    "for i in range(len(titles)):\n",
    "    g.add_vertex()\n",
    "    g.vp['name'][i] = str(titles[i])\n",
    "    g.vp['bipartite'][i] = 0\n",
    "\n",
    "print('número de vértices de g:', g.num_vertices())"
   ]
  },
  {
   "cell_type": "code",
   "execution_count": null,
   "id": "fd88168d",
   "metadata": {},
   "outputs": [],
   "source": [
    "len(genres) + len(titles)"
   ]
  },
  {
   "cell_type": "code",
   "execution_count": null,
   "id": "90cd537d",
   "metadata": {
    "scrolled": false
   },
   "outputs": [],
   "source": [
    "for i in range(len(genres)):\n",
    "    g.add_vertex()\n",
    "    g.vp['name'][i + len(titles)] = str(genres[i])\n",
    "    g.vp['bipartite'][i + len(titles)] = 1\n",
    "    \n",
    "print('número de vértices de g total:', g.num_vertices())"
   ]
  },
  {
   "cell_type": "code",
   "execution_count": null,
   "id": "e5f6e6b0",
   "metadata": {},
   "outputs": [],
   "source": [
    "for v in g.vertices():\n",
    "    print(g.vp['name'][v])"
   ]
  },
  {
   "cell_type": "code",
   "execution_count": null,
   "id": "8672a11c",
   "metadata": {
    "scrolled": true
   },
   "outputs": [],
   "source": [
    "lista = []\n",
    "for linha in range(df.shape[0]):\n",
    "    title = df['Title'].loc[linha]\n",
    "    genre = df['Genre'].loc[linha]\n",
    "    index_title = 0\n",
    "    index_genre = 0\n",
    "    v = 0\n",
    "    while v < g.num_vertices() - len(genres):\n",
    "        if str(g.vp['name'][v]) == str(title):\n",
    "            index_title = v\n",
    "            break\n",
    "        v += 1\n",
    "    u = len(titles)\n",
    "    while u < g.num_vertices():\n",
    "        if str(g.vp['name'][u]) == str(genre):\n",
    "            index_genre = u\n",
    "            break\n",
    "        u += 1\n",
    "    print(f\"{title}: {index_title}, {genre}: {index_genre}\")\n",
    "    together = []\n",
    "    together.append(index_title)\n",
    "    together.append(index_genre)\n",
    "    if together not in lista:\n",
    "        lista.append(together)"
   ]
  },
  {
   "cell_type": "code",
   "execution_count": null,
   "id": "e6694161",
   "metadata": {},
   "outputs": [],
   "source": [
    "len(lista)\n",
    "for i in lista:\n",
    "    print(i)\n",
    "    g.add_edge(i[0], i[1])\n",
    "#     g.add_edge(i[0], i[1], add_missing=False)"
   ]
  },
  {
   "cell_type": "code",
   "execution_count": null,
   "id": "c6d1fd0c",
   "metadata": {
    "scrolled": true
   },
   "outputs": [],
   "source": [
    "for u in g.vertices():\n",
    "    print(f'vizinhos de {g.vp[\"name\"][u]}:', end=' ')\n",
    "    for v in u.all_neighbors():\n",
    "        print(g.vp[\"name\"][v], end=' ')\n",
    "    print()"
   ]
  },
  {
   "cell_type": "code",
   "execution_count": null,
   "id": "cbbc772e",
   "metadata": {},
   "outputs": [],
   "source": [
    "save_gt(g, 'projeto.net.gz')"
   ]
  },
  {
   "cell_type": "code",
   "execution_count": null,
   "id": "d6590bdb",
   "metadata": {},
   "outputs": [],
   "source": []
  },
  {
   "cell_type": "code",
   "execution_count": null,
   "id": "b0b5ae11",
   "metadata": {
    "scrolled": false
   },
   "outputs": [],
   "source": [
    "g.vp['color'] = g.new_vp('object')\n",
    "\n",
    "for v in g.vertices():\n",
    "    if g.vp['bipartite'][v] == 0:\n",
    "        g.vp['color'][v] = 0xff0000\n",
    "    else:\n",
    "        g.vp['color'][v] = 0x00ff00\n",
    "top = []\n",
    "\n",
    "for v in g.vertices():\n",
    "    if g.vp['bipartite'][v] == 0:\n",
    "        top.append(v)\n",
    "\n",
    "m = draw_gt.bipartite_layout(g, top)\n",
    "move_gt(g, m)\n",
    "save_gt(g, 'projeto.net.gz')\n",
    "# r = netpixi.render('projeto.net.gz')"
   ]
  },
  {
   "cell_type": "code",
   "execution_count": null,
   "id": "cfe98697",
   "metadata": {},
   "outputs": [],
   "source": [
    "for i in g.vp['name']:\n",
    "    if type(i) != str:\n",
    "        print(type(i))\n",
    "        print(g.vp[\"name\"][i])"
   ]
  },
  {
   "cell_type": "markdown",
   "id": "3e1a434c",
   "metadata": {},
   "source": [
    "One Mode"
   ]
  },
  {
   "cell_type": "code",
   "execution_count": null,
   "id": "e2e709c3",
   "metadata": {
    "scrolled": true
   },
   "outputs": [],
   "source": [
    "import numpy as np\n",
    "# Criando o Grafo\n",
    "grafo_titulo = Graph(directed = False)\n",
    "grafo_titulo.vp['nome'] = grafo_titulo.new_vp('object')\n",
    "\n",
    "i = 0\n",
    "for v in g.vertices():\n",
    "    if g.vp['bipartite'][v] == 0: # Adicionando os vértices (títulos)\n",
    "        grafo_titulo.add_vertex()\n",
    "        grafo_titulo.vp['nome'][i] = g.vp['name'][v]\n",
    "        i+=1\n",
    "    \n",
    "m = np.zeros((grafo_titulo.num_vertices(), grafo_titulo.num_vertices()))\n",
    "grafo_titulo.ep['weight'] = grafo_titulo.new_ep('object')\n",
    "# Criando os vértices e preenchendo seu objeto de acordo com os vizinhos do grafo original\n",
    "for u in g.vertices():\n",
    "    \n",
    "    if g.vp['bipartite'][u] == 1:\n",
    "        viz = []\n",
    "        for v in u.all_neighbors():\n",
    "            for n in range(grafo_titulo.num_vertices()):\n",
    "                if grafo_titulo.vp['nome'][n] == g.vp[\"name\"][v]:\n",
    "                    viz.append(n)\n",
    "        \n",
    "        print(viz)\n",
    "        while len(viz) > 1:\n",
    "            j = 1\n",
    "            while j<len(viz):\n",
    "                if m[viz[0], viz[j]] == 0:     \n",
    "                    grafo_titulo.add_edge(viz[0], viz[j])\n",
    "                    grafo_titulo.ep[\"weight\"][grafo_titulo.edge(viz[0], viz[j])] = 1\n",
    "                    m[viz[0], viz[j]] = 1\n",
    "\n",
    "                else:\n",
    "                    grafo_titulo.ep[\"weight\"][grafo_titulo.edge(viz[0], viz[j])] += 1\n",
    "                    m[viz[0], viz[j]] += 1\n",
    "                \n",
    "                j += 1\n",
    "            del viz[0]"
   ]
  },
  {
   "cell_type": "code",
   "execution_count": null,
   "id": "5a2bb40f",
   "metadata": {},
   "outputs": [],
   "source": [
    "# Remove da rede todas as arestas em que weight < lower.\n",
    "def dicotomize(g, lower):\n",
    "    removed = []\n",
    "\n",
    "    for e in g.edges():\n",
    "        if g.ep['weight'][e] < lower:\n",
    "            removed.append(e)\n",
    "\n",
    "    for e in removed:\n",
    "        g.remove_edge(e)"
   ]
  },
  {
   "cell_type": "code",
   "execution_count": null,
   "id": "20372411",
   "metadata": {},
   "outputs": [],
   "source": [
    "dicotomize(grafo_titulo, 4)\n",
    "save_gt(grafo_titulo, 'gr_titulo.net.gz')"
   ]
  },
  {
   "cell_type": "code",
   "execution_count": null,
   "id": "aedf9ac8",
   "metadata": {
    "scrolled": false
   },
   "outputs": [],
   "source": [
    "grafo_titulo = load_gt('gr_titulo.net.gz')\n",
    "m = draw_gt.sfdp_layout(grafo_titulo)\n",
    "move_gt(grafo_titulo, m)\n",
    "save_gt(grafo_titulo, 'exemplo2.net.gz')\n",
    "# r = netpixi.render('exemplo2.net.gz', infinite=True);"
   ]
  },
  {
   "cell_type": "code",
   "execution_count": null,
   "id": "be58e83c",
   "metadata": {},
   "outputs": [],
   "source": [
    "from graph_tool import centrality, clustering\n",
    "\n",
    "# calculo clustering coefficient\n",
    "c = clustering.local_clustering(grafo_titulo)\n",
    "\n",
    "# calculo betweenness\n",
    "bc, _ = centrality.betweenness(grafo_titulo)\n",
    "\n",
    "grafo_titulo.vp['betweenness'] = bc\n",
    "grafo_titulo.vp['clustering'] = c"
   ]
  },
  {
   "cell_type": "code",
   "execution_count": null,
   "id": "ac28c137",
   "metadata": {},
   "outputs": [],
   "source": [
    "df = pd.DataFrame({k: list(v) for k, v in grafo_titulo.vp.items()})"
   ]
  },
  {
   "cell_type": "code",
   "execution_count": null,
   "id": "fafe9318",
   "metadata": {
    "scrolled": false
   },
   "outputs": [],
   "source": [
    "filmes = pd.read_excel('netflix.xlsx')"
   ]
  },
  {
   "cell_type": "code",
   "execution_count": null,
   "id": "fe71fb86",
   "metadata": {
    "scrolled": false
   },
   "outputs": [],
   "source": [
    "df.sort_values(by='betweenness')"
   ]
  },
  {
   "cell_type": "code",
   "execution_count": null,
   "id": "aa5c1004",
   "metadata": {},
   "outputs": [],
   "source": [
    "filmes.columns"
   ]
  },
  {
   "cell_type": "code",
   "execution_count": null,
   "id": "c84c37dd",
   "metadata": {},
   "outputs": [],
   "source": [
    "df"
   ]
  },
  {
   "cell_type": "code",
   "execution_count": null,
   "id": "ff1b4ee1",
   "metadata": {},
   "outputs": [],
   "source": [
    "filmes_score = filmes[['IMDb Score', 'Title']].rename(columns={\"Title\":\"nome\"})"
   ]
  },
  {
   "cell_type": "code",
   "execution_count": null,
   "id": "fc27ab1f",
   "metadata": {},
   "outputs": [],
   "source": [
    "filmes_score.nome = filmes_score.nome.astype(str, copy=False)\n",
    "df.nome = df.nome.astype(str, copy=False)\n",
    "df.id = df.id.astype(int, copy=False)"
   ]
  },
  {
   "cell_type": "markdown",
   "id": "164a5c08",
   "metadata": {},
   "source": [
    "Remoção de filmes duplicados"
   ]
  },
  {
   "cell_type": "code",
   "execution_count": null,
   "id": "605a16d1",
   "metadata": {},
   "outputs": [],
   "source": [
    "filmes_score = filmes_score.drop_duplicates(subset=['nome'], keep=False)"
   ]
  },
  {
   "cell_type": "markdown",
   "id": "03954c06",
   "metadata": {},
   "source": [
    "Adição da coluna `IMDb Score` ao datafram `df`"
   ]
  },
  {
   "cell_type": "code",
   "execution_count": null,
   "id": "93707f54",
   "metadata": {
    "scrolled": false
   },
   "outputs": [],
   "source": [
    "df = df.set_index('nome').join(filmes_score.set_index('nome'), how='left').reset_index()"
   ]
  },
  {
   "cell_type": "code",
   "execution_count": null,
   "id": "7e2931a6",
   "metadata": {},
   "outputs": [],
   "source": [
    "df.nome.describe()"
   ]
  },
  {
   "cell_type": "code",
   "execution_count": null,
   "id": "6c7c1f27",
   "metadata": {},
   "outputs": [],
   "source": [
    "df.head()"
   ]
  },
  {
   "cell_type": "code",
   "execution_count": null,
   "id": "56df0ac5",
   "metadata": {},
   "outputs": [],
   "source": [
    "df = df.rename(columns={\"IMDb Score\": 'desempenho'})"
   ]
  },
  {
   "cell_type": "code",
   "execution_count": null,
   "id": "421ab022",
   "metadata": {},
   "outputs": [],
   "source": [
    "df.head()"
   ]
  },
  {
   "cell_type": "code",
   "execution_count": null,
   "id": "2e1fbd71",
   "metadata": {},
   "outputs": [],
   "source": [
    "import seaborn as sns\n",
    "sns.set()"
   ]
  },
  {
   "cell_type": "code",
   "execution_count": null,
   "id": "b1fe2f82",
   "metadata": {},
   "outputs": [],
   "source": [
    "import statsmodels.formula.api as smf"
   ]
  },
  {
   "cell_type": "markdown",
   "id": "9469ed56",
   "metadata": {},
   "source": [
    "### Agrupamento"
   ]
  },
  {
   "cell_type": "code",
   "execution_count": null,
   "id": "ffa09f27",
   "metadata": {},
   "outputs": [],
   "source": [
    "df"
   ]
  },
  {
   "cell_type": "code",
   "execution_count": null,
   "id": "8fb201ca",
   "metadata": {},
   "outputs": [],
   "source": [
    "a = df[df['betweenness'] > 0]\n",
    "a"
   ]
  },
  {
   "cell_type": "code",
   "execution_count": null,
   "id": "561297c2",
   "metadata": {},
   "outputs": [],
   "source": [
    "a.shape[0]/df.shape[0]"
   ]
  },
  {
   "cell_type": "code",
   "execution_count": null,
   "id": "99374895",
   "metadata": {
    "scrolled": true
   },
   "outputs": [],
   "source": [
    "sns.regplot(x=a['desempenho'], y=np.log(a['betweenness']))"
   ]
  },
  {
   "cell_type": "code",
   "execution_count": null,
   "id": "74d1f547",
   "metadata": {},
   "outputs": [],
   "source": [
    "sns.regplot(x=df['betweenness'], y=np.log(df['desempenho']))"
   ]
  },
  {
   "cell_type": "code",
   "execution_count": null,
   "id": "5a1a81ee",
   "metadata": {},
   "outputs": [],
   "source": [
    "model = smf.ols(data=a, formula='desempenho ~ np.log(betweenness)')\n",
    "result = model.fit()\n",
    "result.summary()"
   ]
  },
  {
   "cell_type": "markdown",
   "id": "6051893a",
   "metadata": {},
   "source": [
    "Como esperado após a análise dos gráficos, o R² é bem pequeno quando queremos explicar o desempenho levando em conta o __betweenness__. Além disso, podemos ver que o coeficiente é positivo, indicando que existe uma relação positiva, no entanto, o _p\\_valor_ é muito grande, ou seja, não podemos rejeitar a hipótese nula de que não há relação."
   ]
  },
  {
   "cell_type": "markdown",
   "id": "8b5f5404",
   "metadata": {},
   "source": [
    "### Diversidade"
   ]
  },
  {
   "cell_type": "code",
   "execution_count": null,
   "id": "a34d565b",
   "metadata": {},
   "outputs": [],
   "source": [
    "sns.regplot(x=df['clustering'], y=df['desempenho'])"
   ]
  },
  {
   "cell_type": "code",
   "execution_count": null,
   "id": "b93d2615",
   "metadata": {
    "scrolled": false
   },
   "outputs": [],
   "source": [
    "model = smf.ols(data=df, formula='desempenho ~ clustering')\n",
    "result = model.fit()\n",
    "result.summary()"
   ]
  },
  {
   "cell_type": "markdown",
   "id": "e5040411",
   "metadata": {},
   "source": [
    "O R² é desprezível quando queremos explicar o __desempenho__ levando em conta o __clustering__. Além disso, podemos ver que o coeficiente é negativo, indicando que existe uma relação negativa, no entanto, o _p\\_valor_ é muito grande, ou seja, também não podemos rejeitar a hipótese nula de que não há relação."
   ]
  },
  {
   "cell_type": "markdown",
   "id": "f5efe918",
   "metadata": {},
   "source": [
    "Após analisarmos individualmente a contribuição de cada variável, decidimos testar o impacto da combinação das duas no desempenho do filme."
   ]
  },
  {
   "cell_type": "code",
   "execution_count": null,
   "id": "91ca5889",
   "metadata": {},
   "outputs": [],
   "source": [
    "model = smf.ols(data=df, formula='desempenho ~ betweenness + clustering')\n",
    "result = model.fit()\n",
    "result.summary()"
   ]
  },
  {
   "cell_type": "markdown",
   "id": "df2578f1",
   "metadata": {},
   "source": [
    "Pelo que se pode observar, a contribuição da combinação das variáveis não parece ser suficiente para explicar o desempenho de um filme. A combinação dos coeficientes com seus respectivos _p\\_valores_ continua ruim, no entanto, podemos ver uma melhoria ínfima no R²."
   ]
  },
  {
   "cell_type": "markdown",
   "id": "44735c47",
   "metadata": {},
   "source": [
    "Portanto, dado que a hipótese era que, de alguma forma, o __agrupamento__ e a __diversidade__ explicavam o __desempenho__, pode-se dizer que a hipótese não se comprova estatisticamente ou que precisaríamos de um refinamento melhor no modelo."
   ]
  }
 ],
 "metadata": {
  "kernelspec": {
   "display_name": "Python 3 (ipykernel)",
   "language": "python",
   "name": "python3"
  },
  "language_info": {
   "codemirror_mode": {
    "name": "ipython",
    "version": 3
   },
   "file_extension": ".py",
   "mimetype": "text/x-python",
   "name": "python",
   "nbconvert_exporter": "python",
   "pygments_lexer": "ipython3",
   "version": "3.7.11"
  }
 },
 "nbformat": 4,
 "nbformat_minor": 5
}
