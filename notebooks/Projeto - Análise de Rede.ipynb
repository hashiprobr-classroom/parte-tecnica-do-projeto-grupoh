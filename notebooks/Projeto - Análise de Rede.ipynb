{
 "cells": [
  {
   "cell_type": "markdown",
   "id": "31a0a830",
   "metadata": {},
   "source": [
    "# Projeto de Redes Sociais\n",
    "\n",
    "Cicero Tiago Carneiro Valentim\n",
    "\n",
    "Lais Nascimento da Silva\n",
    "\n",
    "Thalia Loiola da Silva\n",
    "\n",
    "William Augusto Reis da Silva"
   ]
  },
  {
   "cell_type": "markdown",
   "id": "180e40ab",
   "metadata": {},
   "source": [
    "### Bibliotecas"
   ]
  },
  {
   "cell_type": "code",
   "execution_count": 1,
   "id": "78230410",
   "metadata": {},
   "outputs": [
    {
     "data": {
      "text/html": [
       "\n",
       "    <script src=\"/files/netpixi.min.js\"></script>\n"
      ],
      "text/plain": [
       "<IPython.core.display.HTML object>"
      ]
     },
     "metadata": {},
     "output_type": "display_data"
    }
   ],
   "source": [
    "from graph_tool import centrality, clustering, PropertyMap\n",
    "from graph_tool import Graph\n",
    "# from graph_tool.all import graph_draw\n",
    "from netpixi.data.gt import *\n",
    "from netpixi import render, peek\n",
    "import netpixi\n",
    "import pandas as pd\n",
    "import netpixi\n",
    "import numpy as np"
   ]
  },
  {
   "cell_type": "markdown",
   "id": "4bf95402",
   "metadata": {},
   "source": [
    "Às vezes é necessário instalar o openpyxl. Só descomentar:"
   ]
  },
  {
   "cell_type": "code",
   "execution_count": 3,
   "id": "7340f507",
   "metadata": {},
   "outputs": [],
   "source": [
    "# !pip install openpyxl"
   ]
  },
  {
   "cell_type": "markdown",
   "id": "d0406642",
   "metadata": {},
   "source": [
    "## Carregamento do grafo"
   ]
  },
  {
   "cell_type": "code",
   "execution_count": 6,
   "id": "aedf9ac8",
   "metadata": {
    "scrolled": false
   },
   "outputs": [
    {
     "data": {
      "text/html": [
       "\n",
       "        <div id=\"WdhQGhYGRGvuduCozKwNdw\"></div>\n",
       "        <script>netpixi.render('WdhQGhYGRGvuduCozKwNdw', 'exemplo2.net.gz', 1.7777777777777777, true, true, false);</script>\n",
       "    "
      ],
      "text/plain": [
       "<IPython.core.display.HTML object>"
      ]
     },
     "metadata": {},
     "output_type": "display_data"
    }
   ],
   "source": [
    "grafo_titulo = load_gt('gr_titulo.net.gz')\n",
    "m = draw_gt.sfdp_layout(grafo_titulo)\n",
    "move_gt(grafo_titulo, m)\n",
    "save_gt(grafo_titulo, 'exemplo2.net.gz')\n",
    "r = netpixi.render('exemplo2.net.gz', infinite=True);"
   ]
  },
  {
   "cell_type": "code",
   "execution_count": 7,
   "id": "be58e83c",
   "metadata": {},
   "outputs": [],
   "source": [
    "from graph_tool import centrality, clustering\n",
    "\n",
    "# calculo clustering coefficient\n",
    "c = clustering.local_clustering(grafo_titulo)\n",
    "\n",
    "# calculo betweenness\n",
    "bc, _ = centrality.betweenness(grafo_titulo)\n",
    "\n",
    "grafo_titulo.vp['betweenness'] = bc\n",
    "grafo_titulo.vp['clustering'] = c"
   ]
  },
  {
   "cell_type": "code",
   "execution_count": 23,
   "id": "ac28c137",
   "metadata": {},
   "outputs": [],
   "source": [
    "df = pd.DataFrame({k: list(v) for k, v in grafo_titulo.vp.items()})"
   ]
  },
  {
   "cell_type": "code",
   "execution_count": 25,
   "id": "fafe9318",
   "metadata": {
    "scrolled": false
   },
   "outputs": [],
   "source": [
    "filmes = pd.read_excel('netflix.xlsx')"
   ]
  },
  {
   "cell_type": "code",
   "execution_count": 26,
   "id": "fe71fb86",
   "metadata": {
    "scrolled": false
   },
   "outputs": [
    {
     "data": {
      "text/html": [
       "<div>\n",
       "<style scoped>\n",
       "    .dataframe tbody tr th:only-of-type {\n",
       "        vertical-align: middle;\n",
       "    }\n",
       "\n",
       "    .dataframe tbody tr th {\n",
       "        vertical-align: top;\n",
       "    }\n",
       "\n",
       "    .dataframe thead th {\n",
       "        text-align: right;\n",
       "    }\n",
       "</style>\n",
       "<table border=\"1\" class=\"dataframe\">\n",
       "  <thead>\n",
       "    <tr style=\"text-align: right;\">\n",
       "      <th></th>\n",
       "      <th>id</th>\n",
       "      <th>nome</th>\n",
       "      <th>_x</th>\n",
       "      <th>_y</th>\n",
       "      <th>betweenness</th>\n",
       "      <th>clustering</th>\n",
       "    </tr>\n",
       "  </thead>\n",
       "  <tbody>\n",
       "    <tr>\n",
       "      <th>0</th>\n",
       "      <td>0</td>\n",
       "      <td>The Closet</td>\n",
       "      <td>-32.504764</td>\n",
       "      <td>-78.421429</td>\n",
       "      <td>0.000000</td>\n",
       "      <td>0.000000</td>\n",
       "    </tr>\n",
       "    <tr>\n",
       "      <th>639</th>\n",
       "      <td>639</td>\n",
       "      <td>Sympathy for Mr. Vengeance</td>\n",
       "      <td>-183.767704</td>\n",
       "      <td>49.759114</td>\n",
       "      <td>0.000000</td>\n",
       "      <td>0.000000</td>\n",
       "    </tr>\n",
       "    <tr>\n",
       "      <th>641</th>\n",
       "      <td>641</td>\n",
       "      <td>Rang De Basanti</td>\n",
       "      <td>-141.756576</td>\n",
       "      <td>98.631853</td>\n",
       "      <td>0.000000</td>\n",
       "      <td>0.000000</td>\n",
       "    </tr>\n",
       "    <tr>\n",
       "      <th>643</th>\n",
       "      <td>643</td>\n",
       "      <td>As It Is in Heaven</td>\n",
       "      <td>34.975907</td>\n",
       "      <td>64.449967</td>\n",
       "      <td>0.000000</td>\n",
       "      <td>1.000000</td>\n",
       "    </tr>\n",
       "    <tr>\n",
       "      <th>645</th>\n",
       "      <td>645</td>\n",
       "      <td>Lady Vengeance</td>\n",
       "      <td>-165.586443</td>\n",
       "      <td>-74.546777</td>\n",
       "      <td>0.000000</td>\n",
       "      <td>0.000000</td>\n",
       "    </tr>\n",
       "    <tr>\n",
       "      <th>...</th>\n",
       "      <td>...</td>\n",
       "      <td>...</td>\n",
       "      <td>...</td>\n",
       "      <td>...</td>\n",
       "      <td>...</td>\n",
       "      <td>...</td>\n",
       "    </tr>\n",
       "    <tr>\n",
       "      <th>425</th>\n",
       "      <td>425</td>\n",
       "      <td>Lupin the 3rd: The Columbus Files</td>\n",
       "      <td>21.078999</td>\n",
       "      <td>29.015980</td>\n",
       "      <td>0.004244</td>\n",
       "      <td>0.283502</td>\n",
       "    </tr>\n",
       "    <tr>\n",
       "      <th>447</th>\n",
       "      <td>447</td>\n",
       "      <td>The Girl Who Leapt Through Time</td>\n",
       "      <td>31.626656</td>\n",
       "      <td>31.598067</td>\n",
       "      <td>0.004794</td>\n",
       "      <td>0.405614</td>\n",
       "    </tr>\n",
       "    <tr>\n",
       "      <th>365</th>\n",
       "      <td>365</td>\n",
       "      <td>Robin-B-Hood</td>\n",
       "      <td>26.802024</td>\n",
       "      <td>17.409868</td>\n",
       "      <td>0.009172</td>\n",
       "      <td>0.260443</td>\n",
       "    </tr>\n",
       "    <tr>\n",
       "      <th>378</th>\n",
       "      <td>378</td>\n",
       "      <td>Gantz</td>\n",
       "      <td>15.149500</td>\n",
       "      <td>23.524071</td>\n",
       "      <td>0.018182</td>\n",
       "      <td>0.169083</td>\n",
       "    </tr>\n",
       "    <tr>\n",
       "      <th>347</th>\n",
       "      <td>347</td>\n",
       "      <td>The Vision of Escaflowne</td>\n",
       "      <td>20.663016</td>\n",
       "      <td>33.924106</td>\n",
       "      <td>0.027029</td>\n",
       "      <td>0.160033</td>\n",
       "    </tr>\n",
       "  </tbody>\n",
       "</table>\n",
       "<p>1016 rows × 6 columns</p>\n",
       "</div>"
      ],
      "text/plain": [
       "      id                               nome          _x         _y  \\\n",
       "0      0                         The Closet  -32.504764 -78.421429   \n",
       "639  639         Sympathy for Mr. Vengeance -183.767704  49.759114   \n",
       "641  641                    Rang De Basanti -141.756576  98.631853   \n",
       "643  643                 As It Is in Heaven   34.975907  64.449967   \n",
       "645  645                     Lady Vengeance -165.586443 -74.546777   \n",
       "..   ...                                ...         ...        ...   \n",
       "425  425  Lupin the 3rd: The Columbus Files   21.078999  29.015980   \n",
       "447  447    The Girl Who Leapt Through Time   31.626656  31.598067   \n",
       "365  365                       Robin-B-Hood   26.802024  17.409868   \n",
       "378  378                              Gantz   15.149500  23.524071   \n",
       "347  347           The Vision of Escaflowne   20.663016  33.924106   \n",
       "\n",
       "     betweenness  clustering  \n",
       "0       0.000000    0.000000  \n",
       "639     0.000000    0.000000  \n",
       "641     0.000000    0.000000  \n",
       "643     0.000000    1.000000  \n",
       "645     0.000000    0.000000  \n",
       "..           ...         ...  \n",
       "425     0.004244    0.283502  \n",
       "447     0.004794    0.405614  \n",
       "365     0.009172    0.260443  \n",
       "378     0.018182    0.169083  \n",
       "347     0.027029    0.160033  \n",
       "\n",
       "[1016 rows x 6 columns]"
      ]
     },
     "execution_count": 26,
     "metadata": {},
     "output_type": "execute_result"
    }
   ],
   "source": [
    "df.sort_values(by='betweenness')"
   ]
  },
  {
   "cell_type": "code",
   "execution_count": 27,
   "id": "aa5c1004",
   "metadata": {},
   "outputs": [
    {
     "data": {
      "text/plain": [
       "Index(['Title', 'Genre', 'Tags', 'Languages', 'Series or Movie',\n",
       "       'Hidden Gem Score', 'Country Availability', 'Runtime', 'Director',\n",
       "       'Writer', 'Actors', 'View Rating', 'IMDb Score',\n",
       "       'Rotten Tomatoes Score', 'Metacritic Score', 'Awards Received',\n",
       "       'Awards Nominated For', 'Boxoffice', 'Release Date',\n",
       "       'Netflix Release Date', 'Production House', 'Netflix Link', 'IMDb Link',\n",
       "       'Summary', 'IMDb Votes', 'Image', 'Poster', 'TMDb Trailer',\n",
       "       'Trailer Site'],\n",
       "      dtype='object')"
      ]
     },
     "execution_count": 27,
     "metadata": {},
     "output_type": "execute_result"
    }
   ],
   "source": [
    "filmes.columns"
   ]
  },
  {
   "cell_type": "code",
   "execution_count": 28,
   "id": "ff1b4ee1",
   "metadata": {},
   "outputs": [],
   "source": [
    "filmes_score = filmes[['IMDb Score', 'Title']].rename(columns={\"Title\":\"nome\"})"
   ]
  },
  {
   "cell_type": "code",
   "execution_count": 29,
   "id": "fc27ab1f",
   "metadata": {},
   "outputs": [],
   "source": [
    "filmes_score.nome = filmes_score.nome.astype(str, copy=False)\n",
    "df.nome = df.nome.astype(str, copy=False)\n",
    "df.id = df.id.astype(int, copy=False)"
   ]
  },
  {
   "cell_type": "markdown",
   "id": "164a5c08",
   "metadata": {},
   "source": [
    "Remoção de filmes duplicados"
   ]
  },
  {
   "cell_type": "code",
   "execution_count": 30,
   "id": "605a16d1",
   "metadata": {},
   "outputs": [],
   "source": [
    "filmes_score = filmes_score.drop_duplicates(subset=['nome'], keep=False)"
   ]
  },
  {
   "cell_type": "markdown",
   "id": "03954c06",
   "metadata": {},
   "source": [
    "Adição da coluna `IMDb Score` ao datafram `df`"
   ]
  },
  {
   "cell_type": "code",
   "execution_count": 31,
   "id": "b658f462",
   "metadata": {},
   "outputs": [
    {
     "data": {
      "text/html": [
       "<div>\n",
       "<style scoped>\n",
       "    .dataframe tbody tr th:only-of-type {\n",
       "        vertical-align: middle;\n",
       "    }\n",
       "\n",
       "    .dataframe tbody tr th {\n",
       "        vertical-align: top;\n",
       "    }\n",
       "\n",
       "    .dataframe thead th {\n",
       "        text-align: right;\n",
       "    }\n",
       "</style>\n",
       "<table border=\"1\" class=\"dataframe\">\n",
       "  <thead>\n",
       "    <tr style=\"text-align: right;\">\n",
       "      <th></th>\n",
       "      <th>id</th>\n",
       "      <th>nome</th>\n",
       "      <th>_x</th>\n",
       "      <th>_y</th>\n",
       "      <th>betweenness</th>\n",
       "      <th>clustering</th>\n",
       "    </tr>\n",
       "  </thead>\n",
       "  <tbody>\n",
       "    <tr>\n",
       "      <th>0</th>\n",
       "      <td>0</td>\n",
       "      <td>The Closet</td>\n",
       "      <td>-32.504764</td>\n",
       "      <td>-78.421429</td>\n",
       "      <td>0.000000</td>\n",
       "      <td>0.000000</td>\n",
       "    </tr>\n",
       "    <tr>\n",
       "      <th>1</th>\n",
       "      <td>1</td>\n",
       "      <td>Sway</td>\n",
       "      <td>-139.345292</td>\n",
       "      <td>-40.616426</td>\n",
       "      <td>0.000000</td>\n",
       "      <td>0.000000</td>\n",
       "    </tr>\n",
       "    <tr>\n",
       "      <th>2</th>\n",
       "      <td>2</td>\n",
       "      <td>The Return</td>\n",
       "      <td>115.520018</td>\n",
       "      <td>63.389219</td>\n",
       "      <td>0.000000</td>\n",
       "      <td>0.000000</td>\n",
       "    </tr>\n",
       "    <tr>\n",
       "      <th>3</th>\n",
       "      <td>3</td>\n",
       "      <td>Intimate Strangers</td>\n",
       "      <td>25.130260</td>\n",
       "      <td>-86.897549</td>\n",
       "      <td>0.000000</td>\n",
       "      <td>0.000000</td>\n",
       "    </tr>\n",
       "    <tr>\n",
       "      <th>4</th>\n",
       "      <td>4</td>\n",
       "      <td>Overcoming</td>\n",
       "      <td>177.824175</td>\n",
       "      <td>75.367236</td>\n",
       "      <td>0.000000</td>\n",
       "      <td>0.000000</td>\n",
       "    </tr>\n",
       "    <tr>\n",
       "      <th>...</th>\n",
       "      <td>...</td>\n",
       "      <td>...</td>\n",
       "      <td>...</td>\n",
       "      <td>...</td>\n",
       "      <td>...</td>\n",
       "      <td>...</td>\n",
       "    </tr>\n",
       "    <tr>\n",
       "      <th>1011</th>\n",
       "      <td>1011</td>\n",
       "      <td>Spy Kids 2: The Island of Lost Dreams</td>\n",
       "      <td>32.016217</td>\n",
       "      <td>26.970615</td>\n",
       "      <td>0.000035</td>\n",
       "      <td>0.874459</td>\n",
       "    </tr>\n",
       "    <tr>\n",
       "      <th>1012</th>\n",
       "      <td>1012</td>\n",
       "      <td>InuYasha: The Movie 2: The Castle Beyond the L...</td>\n",
       "      <td>18.774371</td>\n",
       "      <td>46.508032</td>\n",
       "      <td>0.000000</td>\n",
       "      <td>1.000000</td>\n",
       "    </tr>\n",
       "    <tr>\n",
       "      <th>1013</th>\n",
       "      <td>1013</td>\n",
       "      <td>Two and a Half Men</td>\n",
       "      <td>-164.406511</td>\n",
       "      <td>109.924191</td>\n",
       "      <td>0.000000</td>\n",
       "      <td>0.000000</td>\n",
       "    </tr>\n",
       "    <tr>\n",
       "      <th>1014</th>\n",
       "      <td>1014</td>\n",
       "      <td>50 First Dates</td>\n",
       "      <td>-144.072449</td>\n",
       "      <td>-0.548820</td>\n",
       "      <td>0.000000</td>\n",
       "      <td>0.000000</td>\n",
       "    </tr>\n",
       "    <tr>\n",
       "      <th>1015</th>\n",
       "      <td>1015</td>\n",
       "      <td>13 Going on 30</td>\n",
       "      <td>177.108969</td>\n",
       "      <td>6.916393</td>\n",
       "      <td>0.000000</td>\n",
       "      <td>0.000000</td>\n",
       "    </tr>\n",
       "  </tbody>\n",
       "</table>\n",
       "<p>1016 rows × 6 columns</p>\n",
       "</div>"
      ],
      "text/plain": [
       "        id                                               nome          _x  \\\n",
       "0        0                                         The Closet  -32.504764   \n",
       "1        1                                               Sway -139.345292   \n",
       "2        2                                         The Return  115.520018   \n",
       "3        3                                 Intimate Strangers   25.130260   \n",
       "4        4                                         Overcoming  177.824175   \n",
       "...    ...                                                ...         ...   \n",
       "1011  1011              Spy Kids 2: The Island of Lost Dreams   32.016217   \n",
       "1012  1012  InuYasha: The Movie 2: The Castle Beyond the L...   18.774371   \n",
       "1013  1013                                 Two and a Half Men -164.406511   \n",
       "1014  1014                                     50 First Dates -144.072449   \n",
       "1015  1015                                     13 Going on 30  177.108969   \n",
       "\n",
       "              _y  betweenness  clustering  \n",
       "0     -78.421429     0.000000    0.000000  \n",
       "1     -40.616426     0.000000    0.000000  \n",
       "2      63.389219     0.000000    0.000000  \n",
       "3     -86.897549     0.000000    0.000000  \n",
       "4      75.367236     0.000000    0.000000  \n",
       "...          ...          ...         ...  \n",
       "1011   26.970615     0.000035    0.874459  \n",
       "1012   46.508032     0.000000    1.000000  \n",
       "1013  109.924191     0.000000    0.000000  \n",
       "1014   -0.548820     0.000000    0.000000  \n",
       "1015    6.916393     0.000000    0.000000  \n",
       "\n",
       "[1016 rows x 6 columns]"
      ]
     },
     "execution_count": 31,
     "metadata": {},
     "output_type": "execute_result"
    }
   ],
   "source": [
    "df"
   ]
  },
  {
   "cell_type": "code",
   "execution_count": 32,
   "id": "93707f54",
   "metadata": {
    "scrolled": false
   },
   "outputs": [],
   "source": [
    "df = df.set_index('nome').join(filmes_score.set_index('nome'), how='left').reset_index()"
   ]
  },
  {
   "cell_type": "code",
   "execution_count": 33,
   "id": "7e2931a6",
   "metadata": {},
   "outputs": [
    {
     "data": {
      "text/plain": [
       "count           1016\n",
       "unique          1016\n",
       "top       The Closet\n",
       "freq               1\n",
       "Name: nome, dtype: object"
      ]
     },
     "execution_count": 33,
     "metadata": {},
     "output_type": "execute_result"
    }
   ],
   "source": [
    "df.nome.describe()"
   ]
  },
  {
   "cell_type": "code",
   "execution_count": 34,
   "id": "6c7c1f27",
   "metadata": {},
   "outputs": [
    {
     "data": {
      "text/html": [
       "<div>\n",
       "<style scoped>\n",
       "    .dataframe tbody tr th:only-of-type {\n",
       "        vertical-align: middle;\n",
       "    }\n",
       "\n",
       "    .dataframe tbody tr th {\n",
       "        vertical-align: top;\n",
       "    }\n",
       "\n",
       "    .dataframe thead th {\n",
       "        text-align: right;\n",
       "    }\n",
       "</style>\n",
       "<table border=\"1\" class=\"dataframe\">\n",
       "  <thead>\n",
       "    <tr style=\"text-align: right;\">\n",
       "      <th></th>\n",
       "      <th>nome</th>\n",
       "      <th>id</th>\n",
       "      <th>_x</th>\n",
       "      <th>_y</th>\n",
       "      <th>betweenness</th>\n",
       "      <th>clustering</th>\n",
       "      <th>IMDb Score</th>\n",
       "    </tr>\n",
       "  </thead>\n",
       "  <tbody>\n",
       "    <tr>\n",
       "      <th>0</th>\n",
       "      <td>The Closet</td>\n",
       "      <td>0</td>\n",
       "      <td>-32.504764</td>\n",
       "      <td>-78.421429</td>\n",
       "      <td>0.0</td>\n",
       "      <td>0.0</td>\n",
       "      <td>7.0</td>\n",
       "    </tr>\n",
       "    <tr>\n",
       "      <th>1</th>\n",
       "      <td>Sway</td>\n",
       "      <td>1</td>\n",
       "      <td>-139.345292</td>\n",
       "      <td>-40.616426</td>\n",
       "      <td>0.0</td>\n",
       "      <td>0.0</td>\n",
       "      <td>7.2</td>\n",
       "    </tr>\n",
       "    <tr>\n",
       "      <th>2</th>\n",
       "      <td>The Return</td>\n",
       "      <td>2</td>\n",
       "      <td>115.520018</td>\n",
       "      <td>63.389219</td>\n",
       "      <td>0.0</td>\n",
       "      <td>0.0</td>\n",
       "      <td>8.0</td>\n",
       "    </tr>\n",
       "    <tr>\n",
       "      <th>3</th>\n",
       "      <td>Intimate Strangers</td>\n",
       "      <td>3</td>\n",
       "      <td>25.130260</td>\n",
       "      <td>-86.897549</td>\n",
       "      <td>0.0</td>\n",
       "      <td>0.0</td>\n",
       "      <td>7.0</td>\n",
       "    </tr>\n",
       "    <tr>\n",
       "      <th>4</th>\n",
       "      <td>Overcoming</td>\n",
       "      <td>4</td>\n",
       "      <td>177.824175</td>\n",
       "      <td>75.367236</td>\n",
       "      <td>0.0</td>\n",
       "      <td>0.0</td>\n",
       "      <td>6.9</td>\n",
       "    </tr>\n",
       "  </tbody>\n",
       "</table>\n",
       "</div>"
      ],
      "text/plain": [
       "                 nome  id          _x         _y  betweenness  clustering  \\\n",
       "0          The Closet   0  -32.504764 -78.421429          0.0         0.0   \n",
       "1                Sway   1 -139.345292 -40.616426          0.0         0.0   \n",
       "2          The Return   2  115.520018  63.389219          0.0         0.0   \n",
       "3  Intimate Strangers   3   25.130260 -86.897549          0.0         0.0   \n",
       "4          Overcoming   4  177.824175  75.367236          0.0         0.0   \n",
       "\n",
       "   IMDb Score  \n",
       "0         7.0  \n",
       "1         7.2  \n",
       "2         8.0  \n",
       "3         7.0  \n",
       "4         6.9  "
      ]
     },
     "execution_count": 34,
     "metadata": {},
     "output_type": "execute_result"
    }
   ],
   "source": [
    "df.head()"
   ]
  },
  {
   "cell_type": "code",
   "execution_count": 36,
   "id": "56df0ac5",
   "metadata": {},
   "outputs": [],
   "source": [
    "df = df.rename(columns={\"IMDb Score\": 'desempenho'})"
   ]
  },
  {
   "cell_type": "code",
   "execution_count": 37,
   "id": "421ab022",
   "metadata": {},
   "outputs": [
    {
     "data": {
      "text/html": [
       "<div>\n",
       "<style scoped>\n",
       "    .dataframe tbody tr th:only-of-type {\n",
       "        vertical-align: middle;\n",
       "    }\n",
       "\n",
       "    .dataframe tbody tr th {\n",
       "        vertical-align: top;\n",
       "    }\n",
       "\n",
       "    .dataframe thead th {\n",
       "        text-align: right;\n",
       "    }\n",
       "</style>\n",
       "<table border=\"1\" class=\"dataframe\">\n",
       "  <thead>\n",
       "    <tr style=\"text-align: right;\">\n",
       "      <th></th>\n",
       "      <th>nome</th>\n",
       "      <th>id</th>\n",
       "      <th>_x</th>\n",
       "      <th>_y</th>\n",
       "      <th>betweenness</th>\n",
       "      <th>clustering</th>\n",
       "      <th>desempenho</th>\n",
       "    </tr>\n",
       "  </thead>\n",
       "  <tbody>\n",
       "    <tr>\n",
       "      <th>0</th>\n",
       "      <td>The Closet</td>\n",
       "      <td>0</td>\n",
       "      <td>-32.504764</td>\n",
       "      <td>-78.421429</td>\n",
       "      <td>0.0</td>\n",
       "      <td>0.0</td>\n",
       "      <td>7.0</td>\n",
       "    </tr>\n",
       "    <tr>\n",
       "      <th>1</th>\n",
       "      <td>Sway</td>\n",
       "      <td>1</td>\n",
       "      <td>-139.345292</td>\n",
       "      <td>-40.616426</td>\n",
       "      <td>0.0</td>\n",
       "      <td>0.0</td>\n",
       "      <td>7.2</td>\n",
       "    </tr>\n",
       "    <tr>\n",
       "      <th>2</th>\n",
       "      <td>The Return</td>\n",
       "      <td>2</td>\n",
       "      <td>115.520018</td>\n",
       "      <td>63.389219</td>\n",
       "      <td>0.0</td>\n",
       "      <td>0.0</td>\n",
       "      <td>8.0</td>\n",
       "    </tr>\n",
       "    <tr>\n",
       "      <th>3</th>\n",
       "      <td>Intimate Strangers</td>\n",
       "      <td>3</td>\n",
       "      <td>25.130260</td>\n",
       "      <td>-86.897549</td>\n",
       "      <td>0.0</td>\n",
       "      <td>0.0</td>\n",
       "      <td>7.0</td>\n",
       "    </tr>\n",
       "    <tr>\n",
       "      <th>4</th>\n",
       "      <td>Overcoming</td>\n",
       "      <td>4</td>\n",
       "      <td>177.824175</td>\n",
       "      <td>75.367236</td>\n",
       "      <td>0.0</td>\n",
       "      <td>0.0</td>\n",
       "      <td>6.9</td>\n",
       "    </tr>\n",
       "  </tbody>\n",
       "</table>\n",
       "</div>"
      ],
      "text/plain": [
       "                 nome  id          _x         _y  betweenness  clustering  \\\n",
       "0          The Closet   0  -32.504764 -78.421429          0.0         0.0   \n",
       "1                Sway   1 -139.345292 -40.616426          0.0         0.0   \n",
       "2          The Return   2  115.520018  63.389219          0.0         0.0   \n",
       "3  Intimate Strangers   3   25.130260 -86.897549          0.0         0.0   \n",
       "4          Overcoming   4  177.824175  75.367236          0.0         0.0   \n",
       "\n",
       "   desempenho  \n",
       "0         7.0  \n",
       "1         7.2  \n",
       "2         8.0  \n",
       "3         7.0  \n",
       "4         6.9  "
      ]
     },
     "execution_count": 37,
     "metadata": {},
     "output_type": "execute_result"
    }
   ],
   "source": [
    "df.head()"
   ]
  },
  {
   "cell_type": "code",
   "execution_count": 38,
   "id": "2e1fbd71",
   "metadata": {},
   "outputs": [],
   "source": [
    "import seaborn as sns\n",
    "sns.set()"
   ]
  },
  {
   "cell_type": "code",
   "execution_count": 39,
   "id": "b1fe2f82",
   "metadata": {},
   "outputs": [],
   "source": [
    "import statsmodels.formula.api as smf"
   ]
  },
  {
   "cell_type": "markdown",
   "id": "9469ed56",
   "metadata": {},
   "source": [
    "### Agrupamento"
   ]
  },
  {
   "cell_type": "code",
   "execution_count": 40,
   "id": "99374895",
   "metadata": {
    "scrolled": true
   },
   "outputs": [
    {
     "data": {
      "text/plain": [
       "<AxesSubplot:xlabel='betweenness', ylabel='desempenho'>"
      ]
     },
     "execution_count": 40,
     "metadata": {},
     "output_type": "execute_result"
    },
    {
     "data": {
      "image/png": "[encoded data removed]",
      "text/plain": [
       "<Figure size 432x288 with 1 Axes>"
      ]
     },
     "metadata": {},
     "output_type": "display_data"
    }
   ],
   "source": [
    "sns.regplot(x=df['betweenness'], y=df['desempenho'])"
   ]
  },
  {
   "cell_type": "code",
   "execution_count": 41,
   "id": "5a1a81ee",
   "metadata": {},
   "outputs": [
    {
     "data": {
      "text/html": [
       "<table class=\"simpletable\">\n",
       "<caption>OLS Regression Results</caption>\n",
       "<tr>\n",
       "  <th>Dep. Variable:</th>       <td>desempenho</td>    <th>  R-squared:         </th> <td>   0.001</td>\n",
       "</tr>\n",
       "<tr>\n",
       "  <th>Model:</th>                   <td>OLS</td>       <th>  Adj. R-squared:    </th> <td>   0.000</td>\n",
       "</tr>\n",
       "<tr>\n",
       "  <th>Method:</th>             <td>Least Squares</td>  <th>  F-statistic:       </th> <td>   1.385</td>\n",
       "</tr>\n",
       "<tr>\n",
       "  <th>Date:</th>             <td>Thu, 04 Nov 2021</td> <th>  Prob (F-statistic):</th>  <td> 0.239</td> \n",
       "</tr>\n",
       "<tr>\n",
       "  <th>Time:</th>                 <td>02:32:46</td>     <th>  Log-Likelihood:    </th> <td> -1367.0</td>\n",
       "</tr>\n",
       "<tr>\n",
       "  <th>No. Observations:</th>      <td>   975</td>      <th>  AIC:               </th> <td>   2738.</td>\n",
       "</tr>\n",
       "<tr>\n",
       "  <th>Df Residuals:</th>          <td>   973</td>      <th>  BIC:               </th> <td>   2748.</td>\n",
       "</tr>\n",
       "<tr>\n",
       "  <th>Df Model:</th>              <td>     1</td>      <th>                     </th>     <td> </td>   \n",
       "</tr>\n",
       "<tr>\n",
       "  <th>Covariance Type:</th>      <td>nonrobust</td>    <th>                     </th>     <td> </td>   \n",
       "</tr>\n",
       "</table>\n",
       "<table class=\"simpletable\">\n",
       "<tr>\n",
       "       <td></td>          <th>coef</th>     <th>std err</th>      <th>t</th>      <th>P>|t|</th>  <th>[0.025</th>    <th>0.975]</th>  \n",
       "</tr>\n",
       "<tr>\n",
       "  <th>Intercept</th>   <td>    6.8122</td> <td>    0.032</td> <td>  214.493</td> <td> 0.000</td> <td>    6.750</td> <td>    6.874</td>\n",
       "</tr>\n",
       "<tr>\n",
       "  <th>betweenness</th> <td>   32.3159</td> <td>   27.456</td> <td>    1.177</td> <td> 0.239</td> <td>  -21.564</td> <td>   86.196</td>\n",
       "</tr>\n",
       "</table>\n",
       "<table class=\"simpletable\">\n",
       "<tr>\n",
       "  <th>Omnibus:</th>       <td>91.167</td> <th>  Durbin-Watson:     </th> <td>   1.911</td>\n",
       "</tr>\n",
       "<tr>\n",
       "  <th>Prob(Omnibus):</th> <td> 0.000</td> <th>  Jarque-Bera (JB):  </th> <td> 136.384</td>\n",
       "</tr>\n",
       "<tr>\n",
       "  <th>Skew:</th>          <td>-0.688</td> <th>  Prob(JB):          </th> <td>2.42e-30</td>\n",
       "</tr>\n",
       "<tr>\n",
       "  <th>Kurtosis:</th>      <td> 4.210</td> <th>  Cond. No.          </th> <td>    871.</td>\n",
       "</tr>\n",
       "</table><br/><br/>Notes:<br/>[1] Standard Errors assume that the covariance matrix of the errors is correctly specified."
      ],
      "text/plain": [
       "<class 'statsmodels.iolib.summary.Summary'>\n",
       "\"\"\"\n",
       "                            OLS Regression Results                            \n",
       "==============================================================================\n",
       "Dep. Variable:             desempenho   R-squared:                       0.001\n",
       "Model:                            OLS   Adj. R-squared:                  0.000\n",
       "Method:                 Least Squares   F-statistic:                     1.385\n",
       "Date:                Thu, 04 Nov 2021   Prob (F-statistic):              0.239\n",
       "Time:                        02:32:46   Log-Likelihood:                -1367.0\n",
       "No. Observations:                 975   AIC:                             2738.\n",
       "Df Residuals:                     973   BIC:                             2748.\n",
       "Df Model:                           1                                         \n",
       "Covariance Type:            nonrobust                                         \n",
       "===============================================================================\n",
       "                  coef    std err          t      P>|t|      [0.025      0.975]\n",
       "-------------------------------------------------------------------------------\n",
       "Intercept       6.8122      0.032    214.493      0.000       6.750       6.874\n",
       "betweenness    32.3159     27.456      1.177      0.239     -21.564      86.196\n",
       "==============================================================================\n",
       "Omnibus:                       91.167   Durbin-Watson:                   1.911\n",
       "Prob(Omnibus):                  0.000   Jarque-Bera (JB):              136.384\n",
       "Skew:                          -0.688   Prob(JB):                     2.42e-30\n",
       "Kurtosis:                       4.210   Cond. No.                         871.\n",
       "==============================================================================\n",
       "\n",
       "Notes:\n",
       "[1] Standard Errors assume that the covariance matrix of the errors is correctly specified.\n",
       "\"\"\""
      ]
     },
     "execution_count": 41,
     "metadata": {},
     "output_type": "execute_result"
    }
   ],
   "source": [
    "model = smf.ols(data=df, formula='desempenho ~ betweenness')\n",
    "result = model.fit()\n",
    "result.summary()"
   ]
  },
  {
   "cell_type": "markdown",
   "id": "6051893a",
   "metadata": {},
   "source": [
    "Como esperado após a análise dos gráficos, o R² é bem pequeno quando queremos explicar o desempenho levando em conta o __betweenness__. Além disso, podemos ver que o coeficiente é positivo, indicando que existe uma relação positiva, no entanto, o _p\\_valor_ é muito grande, ou seja, não podemos rejeitar a hipótese nula de que não há relação."
   ]
  },
  {
   "cell_type": "markdown",
   "id": "8b5f5404",
   "metadata": {},
   "source": [
    "### Diversidade"
   ]
  },
  {
   "cell_type": "code",
   "execution_count": 42,
   "id": "a34d565b",
   "metadata": {},
   "outputs": [
    {
     "data": {
      "text/plain": [
       "<AxesSubplot:xlabel='clustering', ylabel='desempenho'>"
      ]
     },
     "execution_count": 42,
     "metadata": {},
     "output_type": "execute_result"
    },
    {
     "data": {
      "image/png": "[encoded data removed]",
      "text/plain": [
       "<Figure size 432x288 with 1 Axes>"
      ]
     },
     "metadata": {},
     "output_type": "display_data"
    }
   ],
   "source": [
    "sns.regplot(x=df['clustering'], y=df['desempenho'])"
   ]
  },
  {
   "cell_type": "code",
   "execution_count": 43,
   "id": "b93d2615",
   "metadata": {
    "scrolled": false
   },
   "outputs": [
    {
     "data": {
      "text/html": [
       "<table class=\"simpletable\">\n",
       "<caption>OLS Regression Results</caption>\n",
       "<tr>\n",
       "  <th>Dep. Variable:</th>       <td>desempenho</td>    <th>  R-squared:         </th> <td>   0.000</td>\n",
       "</tr>\n",
       "<tr>\n",
       "  <th>Model:</th>                   <td>OLS</td>       <th>  Adj. R-squared:    </th> <td>  -0.001</td>\n",
       "</tr>\n",
       "<tr>\n",
       "  <th>Method:</th>             <td>Least Squares</td>  <th>  F-statistic:       </th> <td>  0.3622</td>\n",
       "</tr>\n",
       "<tr>\n",
       "  <th>Date:</th>             <td>Thu, 04 Nov 2021</td> <th>  Prob (F-statistic):</th>  <td> 0.547</td> \n",
       "</tr>\n",
       "<tr>\n",
       "  <th>Time:</th>                 <td>02:32:48</td>     <th>  Log-Likelihood:    </th> <td> -1367.6</td>\n",
       "</tr>\n",
       "<tr>\n",
       "  <th>No. Observations:</th>      <td>   975</td>      <th>  AIC:               </th> <td>   2739.</td>\n",
       "</tr>\n",
       "<tr>\n",
       "  <th>Df Residuals:</th>          <td>   973</td>      <th>  BIC:               </th> <td>   2749.</td>\n",
       "</tr>\n",
       "<tr>\n",
       "  <th>Df Model:</th>              <td>     1</td>      <th>                     </th>     <td> </td>   \n",
       "</tr>\n",
       "<tr>\n",
       "  <th>Covariance Type:</th>      <td>nonrobust</td>    <th>                     </th>     <td> </td>   \n",
       "</tr>\n",
       "</table>\n",
       "<table class=\"simpletable\">\n",
       "<tr>\n",
       "       <td></td>         <th>coef</th>     <th>std err</th>      <th>t</th>      <th>P>|t|</th>  <th>[0.025</th>    <th>0.975]</th>  \n",
       "</tr>\n",
       "<tr>\n",
       "  <th>Intercept</th>  <td>    6.8284</td> <td>    0.037</td> <td>  184.166</td> <td> 0.000</td> <td>    6.756</td> <td>    6.901</td>\n",
       "</tr>\n",
       "<tr>\n",
       "  <th>clustering</th> <td>   -0.0476</td> <td>    0.079</td> <td>   -0.602</td> <td> 0.547</td> <td>   -0.203</td> <td>    0.108</td>\n",
       "</tr>\n",
       "</table>\n",
       "<table class=\"simpletable\">\n",
       "<tr>\n",
       "  <th>Omnibus:</th>       <td>91.951</td> <th>  Durbin-Watson:     </th> <td>   1.908</td>\n",
       "</tr>\n",
       "<tr>\n",
       "  <th>Prob(Omnibus):</th> <td> 0.000</td> <th>  Jarque-Bera (JB):  </th> <td> 138.526</td>\n",
       "</tr>\n",
       "<tr>\n",
       "  <th>Skew:</th>          <td>-0.690</td> <th>  Prob(JB):          </th> <td>8.31e-31</td>\n",
       "</tr>\n",
       "<tr>\n",
       "  <th>Kurtosis:</th>      <td> 4.228</td> <th>  Cond. No.          </th> <td>    2.69</td>\n",
       "</tr>\n",
       "</table><br/><br/>Notes:<br/>[1] Standard Errors assume that the covariance matrix of the errors is correctly specified."
      ],
      "text/plain": [
       "<class 'statsmodels.iolib.summary.Summary'>\n",
       "\"\"\"\n",
       "                            OLS Regression Results                            \n",
       "==============================================================================\n",
       "Dep. Variable:             desempenho   R-squared:                       0.000\n",
       "Model:                            OLS   Adj. R-squared:                 -0.001\n",
       "Method:                 Least Squares   F-statistic:                    0.3622\n",
       "Date:                Thu, 04 Nov 2021   Prob (F-statistic):              0.547\n",
       "Time:                        02:32:48   Log-Likelihood:                -1367.6\n",
       "No. Observations:                 975   AIC:                             2739.\n",
       "Df Residuals:                     973   BIC:                             2749.\n",
       "Df Model:                           1                                         \n",
       "Covariance Type:            nonrobust                                         \n",
       "==============================================================================\n",
       "                 coef    std err          t      P>|t|      [0.025      0.975]\n",
       "------------------------------------------------------------------------------\n",
       "Intercept      6.8284      0.037    184.166      0.000       6.756       6.901\n",
       "clustering    -0.0476      0.079     -0.602      0.547      -0.203       0.108\n",
       "==============================================================================\n",
       "Omnibus:                       91.951   Durbin-Watson:                   1.908\n",
       "Prob(Omnibus):                  0.000   Jarque-Bera (JB):              138.526\n",
       "Skew:                          -0.690   Prob(JB):                     8.31e-31\n",
       "Kurtosis:                       4.228   Cond. No.                         2.69\n",
       "==============================================================================\n",
       "\n",
       "Notes:\n",
       "[1] Standard Errors assume that the covariance matrix of the errors is correctly specified.\n",
       "\"\"\""
      ]
     },
     "execution_count": 43,
     "metadata": {},
     "output_type": "execute_result"
    }
   ],
   "source": [
    "model = smf.ols(data=df, formula='desempenho ~ clustering')\n",
    "result = model.fit()\n",
    "result.summary()"
   ]
  },
  {
   "cell_type": "markdown",
   "id": "e5040411",
   "metadata": {},
   "source": [
    "O R² é desprezível quando queremos explicar o __desempenho__ levando em conta o __clustering__. Além disso, podemos ver que o coeficiente é negativo, indicando que existe uma relação negativa, no entanto, o _p\\_valor_ é muito grande, ou seja, também não podemos rejeitar a hipótese nula de que não há relação."
   ]
  },
  {
   "cell_type": "markdown",
   "id": "f5efe918",
   "metadata": {},
   "source": [
    "Após analisarmos individualmente a contribuição de cada variável, decidimos testar o impacto da combinação das duas no desempenho do filme."
   ]
  },
  {
   "cell_type": "code",
   "execution_count": 44,
   "id": "91ca5889",
   "metadata": {},
   "outputs": [
    {
     "data": {
      "text/html": [
       "<table class=\"simpletable\">\n",
       "<caption>OLS Regression Results</caption>\n",
       "<tr>\n",
       "  <th>Dep. Variable:</th>       <td>desempenho</td>    <th>  R-squared:         </th> <td>   0.002</td>\n",
       "</tr>\n",
       "<tr>\n",
       "  <th>Model:</th>                   <td>OLS</td>       <th>  Adj. R-squared:    </th> <td>  -0.000</td>\n",
       "</tr>\n",
       "<tr>\n",
       "  <th>Method:</th>             <td>Least Squares</td>  <th>  F-statistic:       </th> <td>  0.9002</td>\n",
       "</tr>\n",
       "<tr>\n",
       "  <th>Date:</th>             <td>Thu, 04 Nov 2021</td> <th>  Prob (F-statistic):</th>  <td> 0.407</td> \n",
       "</tr>\n",
       "<tr>\n",
       "  <th>Time:</th>                 <td>02:32:48</td>     <th>  Log-Likelihood:    </th> <td> -1366.8</td>\n",
       "</tr>\n",
       "<tr>\n",
       "  <th>No. Observations:</th>      <td>   975</td>      <th>  AIC:               </th> <td>   2740.</td>\n",
       "</tr>\n",
       "<tr>\n",
       "  <th>Df Residuals:</th>          <td>   972</td>      <th>  BIC:               </th> <td>   2754.</td>\n",
       "</tr>\n",
       "<tr>\n",
       "  <th>Df Model:</th>              <td>     2</td>      <th>                     </th>     <td> </td>   \n",
       "</tr>\n",
       "<tr>\n",
       "  <th>Covariance Type:</th>      <td>nonrobust</td>    <th>                     </th>     <td> </td>   \n",
       "</tr>\n",
       "</table>\n",
       "<table class=\"simpletable\">\n",
       "<tr>\n",
       "       <td></td>          <th>coef</th>     <th>std err</th>      <th>t</th>      <th>P>|t|</th>  <th>[0.025</th>    <th>0.975]</th>  \n",
       "</tr>\n",
       "<tr>\n",
       "  <th>Intercept</th>   <td>    6.8247</td> <td>    0.037</td> <td>  183.437</td> <td> 0.000</td> <td>    6.752</td> <td>    6.898</td>\n",
       "</tr>\n",
       "<tr>\n",
       "  <th>betweenness</th> <td>   32.9567</td> <td>   27.482</td> <td>    1.199</td> <td> 0.231</td> <td>  -20.975</td> <td>   86.888</td>\n",
       "</tr>\n",
       "<tr>\n",
       "  <th>clustering</th>  <td>   -0.0510</td> <td>    0.079</td> <td>   -0.645</td> <td> 0.519</td> <td>   -0.206</td> <td>    0.104</td>\n",
       "</tr>\n",
       "</table>\n",
       "<table class=\"simpletable\">\n",
       "<tr>\n",
       "  <th>Omnibus:</th>       <td>91.454</td> <th>  Durbin-Watson:     </th> <td>   1.912</td>\n",
       "</tr>\n",
       "<tr>\n",
       "  <th>Prob(Omnibus):</th> <td> 0.000</td> <th>  Jarque-Bera (JB):  </th> <td> 137.953</td>\n",
       "</tr>\n",
       "<tr>\n",
       "  <th>Skew:</th>          <td>-0.686</td> <th>  Prob(JB):          </th> <td>1.11e-30</td>\n",
       "</tr>\n",
       "<tr>\n",
       "  <th>Kurtosis:</th>      <td> 4.230</td> <th>  Cond. No.          </th> <td>    902.</td>\n",
       "</tr>\n",
       "</table><br/><br/>Notes:<br/>[1] Standard Errors assume that the covariance matrix of the errors is correctly specified."
      ],
      "text/plain": [
       "<class 'statsmodels.iolib.summary.Summary'>\n",
       "\"\"\"\n",
       "                            OLS Regression Results                            \n",
       "==============================================================================\n",
       "Dep. Variable:             desempenho   R-squared:                       0.002\n",
       "Model:                            OLS   Adj. R-squared:                 -0.000\n",
       "Method:                 Least Squares   F-statistic:                    0.9002\n",
       "Date:                Thu, 04 Nov 2021   Prob (F-statistic):              0.407\n",
       "Time:                        02:32:48   Log-Likelihood:                -1366.8\n",
       "No. Observations:                 975   AIC:                             2740.\n",
       "Df Residuals:                     972   BIC:                             2754.\n",
       "Df Model:                           2                                         \n",
       "Covariance Type:            nonrobust                                         \n",
       "===============================================================================\n",
       "                  coef    std err          t      P>|t|      [0.025      0.975]\n",
       "-------------------------------------------------------------------------------\n",
       "Intercept       6.8247      0.037    183.437      0.000       6.752       6.898\n",
       "betweenness    32.9567     27.482      1.199      0.231     -20.975      86.888\n",
       "clustering     -0.0510      0.079     -0.645      0.519      -0.206       0.104\n",
       "==============================================================================\n",
       "Omnibus:                       91.454   Durbin-Watson:                   1.912\n",
       "Prob(Omnibus):                  0.000   Jarque-Bera (JB):              137.953\n",
       "Skew:                          -0.686   Prob(JB):                     1.11e-30\n",
       "Kurtosis:                       4.230   Cond. No.                         902.\n",
       "==============================================================================\n",
       "\n",
       "Notes:\n",
       "[1] Standard Errors assume that the covariance matrix of the errors is correctly specified.\n",
       "\"\"\""
      ]
     },
     "execution_count": 44,
     "metadata": {},
     "output_type": "execute_result"
    }
   ],
   "source": [
    "model = smf.ols(data=df, formula='desempenho ~ betweenness + clustering')\n",
    "result = model.fit()\n",
    "result.summary()"
   ]
  },
  {
   "cell_type": "markdown",
   "id": "df2578f1",
   "metadata": {},
   "source": [
    "Pelo que se pode observar, a contribuição da combinação das variáveis não parece ser suficiente para explicar o desempenho de um filme. A combinação dos coeficientes com seus respectivos _p\\_valores_ continua ruim, no entanto, podemos ver uma melhoria ínfima no R²."
   ]
  },
  {
   "cell_type": "markdown",
   "id": "44735c47",
   "metadata": {},
   "source": [
    "Portanto, dado que a hipótese era que, de alguma forma, o __agrupamento__ e a __diversidade__ explicavam o __desempenho__, pode-se dizer que a hipótese não se comprova estatisticamente ou que precisaríamos de um refinamento melhor no modelo."
   ]
  }
 ],
 "metadata": {
  "kernelspec": {
   "display_name": "Python 3 (ipykernel)",
   "language": "python",
   "name": "python3"
  },
  "language_info": {
   "codemirror_mode": {
    "name": "ipython",
    "version": 3
   },
   "file_extension": ".py",
   "mimetype": "text/x-python",
   "name": "python",
   "nbconvert_exporter": "python",
   "pygments_lexer": "ipython3",
   "version": "3.7.11"
  }
 },
 "nbformat": 4,
 "nbformat_minor": 5
}
