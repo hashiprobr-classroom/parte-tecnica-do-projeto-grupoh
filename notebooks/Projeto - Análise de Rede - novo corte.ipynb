{
 "cells": [
  {
   "cell_type": "markdown",
   "id": "31a0a830",
   "metadata": {},
   "source": [
    "# Projeto de Redes Sociais\n",
    "\n",
    "Cicero Tiago Carneiro Valentim\n",
    "\n",
    "Lais Nascimento da Silva\n",
    "\n",
    "Thalia Loiola da Silva\n",
    "\n",
    "William Augusto Reis da Silva"
   ]
  },
  {
   "cell_type": "markdown",
   "id": "180e40ab",
   "metadata": {},
   "source": [
    "### Bibliotecas"
   ]
  },
  {
   "cell_type": "code",
   "execution_count": 2,
   "id": "78230410",
   "metadata": {},
   "outputs": [],
   "source": [
    "from graph_tool import centrality, clustering, PropertyMap\n",
    "from graph_tool import Graph\n",
    "# from graph_tool.all import graph_draw\n",
    "from netpixi.data.gt import *\n",
    "from netpixi import render, peek\n",
    "import netpixi\n",
    "import pandas as pd\n",
    "import netpixi\n",
    "import numpy as np"
   ]
  },
  {
   "cell_type": "markdown",
   "id": "4bf95402",
   "metadata": {},
   "source": [
    "Às vezes é necessário instalar o openpyxl. Só descomentar:"
   ]
  },
  {
   "cell_type": "code",
   "execution_count": 3,
   "id": "7340f507",
   "metadata": {},
   "outputs": [
    {
     "name": "stdout",
     "output_type": "stream",
     "text": [
      "Collecting openpyxl\n",
      "  Downloading openpyxl-3.0.9-py2.py3-none-any.whl (242 kB)\n",
      "\u001b[K     |████████████████████████████████| 242 kB 1.1 MB/s eta 0:00:01\n",
      "\u001b[?25hCollecting et-xmlfile\n",
      "  Downloading et_xmlfile-1.1.0-py3-none-any.whl (4.7 kB)\n",
      "Installing collected packages: et-xmlfile, openpyxl\n",
      "Successfully installed et-xmlfile-1.1.0 openpyxl-3.0.9\n",
      "\u001b[33mWARNING: Running pip as the 'root' user can result in broken permissions and conflicting behaviour with the system package manager. It is recommended to use a virtual environment instead: https://pip.pypa.io/warnings/venv\u001b[0m\n",
      "\u001b[33mWARNING: You are using pip version 21.2.4; however, version 21.3.1 is available.\n",
      "You should consider upgrading via the '/usr/local/bin/python -m pip install --upgrade pip' command.\u001b[0m\n"
     ]
    }
   ],
   "source": [
    "!pip install openpyxl"
   ]
  },
  {
   "cell_type": "markdown",
   "id": "d0406642",
   "metadata": {},
   "source": [
    "## Carregamento do grafo"
   ]
  },
  {
   "cell_type": "code",
   "execution_count": 4,
   "id": "aedf9ac8",
   "metadata": {
    "scrolled": false
   },
   "outputs": [],
   "source": [
    "grafo_titulo = load_gt('projeto-one-mode-dicotomizado.net.gz')"
   ]
  },
  {
   "cell_type": "code",
   "execution_count": 5,
   "id": "be58e83c",
   "metadata": {},
   "outputs": [],
   "source": [
    "from graph_tool import centrality, clustering\n",
    "\n",
    "# calculo clustering coefficient\n",
    "c = clustering.local_clustering(grafo_titulo)\n",
    "\n",
    "# calculo betweenness\n",
    "bc, _ = centrality.betweenness(grafo_titulo)\n",
    "\n",
    "# calculo degree\n",
    "dc = degree_gt(grafo_titulo)\n",
    "\n",
    "grafo_titulo.vp['betweenness'] = bc\n",
    "grafo_titulo.vp['clustering'] = c\n",
    "grafo_titulo.vp['degree'] = dc"
   ]
  },
  {
   "cell_type": "code",
   "execution_count": 6,
   "id": "ac28c137",
   "metadata": {},
   "outputs": [],
   "source": [
    "df = pd.DataFrame({k: list(v) for k, v in grafo_titulo.vp.items()})"
   ]
  },
  {
   "cell_type": "code",
   "execution_count": 7,
   "id": "fafe9318",
   "metadata": {
    "scrolled": false
   },
   "outputs": [],
   "source": [
    "filmes = pd.read_excel('netflix.xlsx')"
   ]
  },
  {
   "cell_type": "code",
   "execution_count": 8,
   "id": "fe71fb86",
   "metadata": {
    "scrolled": false
   },
   "outputs": [
    {
     "data": {
      "text/html": [
       "<div>\n",
       "<style scoped>\n",
       "    .dataframe tbody tr th:only-of-type {\n",
       "        vertical-align: middle;\n",
       "    }\n",
       "\n",
       "    .dataframe tbody tr th {\n",
       "        vertical-align: top;\n",
       "    }\n",
       "\n",
       "    .dataframe thead th {\n",
       "        text-align: right;\n",
       "    }\n",
       "</style>\n",
       "<table border=\"1\" class=\"dataframe\">\n",
       "  <thead>\n",
       "    <tr style=\"text-align: right;\">\n",
       "      <th></th>\n",
       "      <th>id</th>\n",
       "      <th>nome</th>\n",
       "      <th>_x</th>\n",
       "      <th>_y</th>\n",
       "      <th>betweenness</th>\n",
       "      <th>clustering</th>\n",
       "      <th>degree</th>\n",
       "    </tr>\n",
       "  </thead>\n",
       "  <tbody>\n",
       "    <tr>\n",
       "      <th>4570</th>\n",
       "      <td>4570</td>\n",
       "      <td>The Accidental Detective</td>\n",
       "      <td>1462.444475</td>\n",
       "      <td>-296.184349</td>\n",
       "      <td>0.000000</td>\n",
       "      <td>0.000000</td>\n",
       "      <td>0.000000</td>\n",
       "    </tr>\n",
       "    <tr>\n",
       "      <th>5880</th>\n",
       "      <td>5880</td>\n",
       "      <td>Suite Francaise</td>\n",
       "      <td>-49.057870</td>\n",
       "      <td>82.788402</td>\n",
       "      <td>0.000000</td>\n",
       "      <td>1.000000</td>\n",
       "      <td>0.000547</td>\n",
       "    </tr>\n",
       "    <tr>\n",
       "      <th>5879</th>\n",
       "      <td>5879</td>\n",
       "      <td>Legend</td>\n",
       "      <td>20.440279</td>\n",
       "      <td>180.686767</td>\n",
       "      <td>0.000000</td>\n",
       "      <td>1.000000</td>\n",
       "      <td>0.003282</td>\n",
       "    </tr>\n",
       "    <tr>\n",
       "      <th>5878</th>\n",
       "      <td>5878</td>\n",
       "      <td>David Beckham: Into the Unknown</td>\n",
       "      <td>1146.086944</td>\n",
       "      <td>396.684496</td>\n",
       "      <td>0.000000</td>\n",
       "      <td>0.000000</td>\n",
       "      <td>0.000000</td>\n",
       "    </tr>\n",
       "    <tr>\n",
       "      <th>5877</th>\n",
       "      <td>5877</td>\n",
       "      <td>Daddys Home</td>\n",
       "      <td>848.418539</td>\n",
       "      <td>-351.984671</td>\n",
       "      <td>0.000000</td>\n",
       "      <td>0.000000</td>\n",
       "      <td>0.000000</td>\n",
       "    </tr>\n",
       "    <tr>\n",
       "      <th>...</th>\n",
       "      <td>...</td>\n",
       "      <td>...</td>\n",
       "      <td>...</td>\n",
       "      <td>...</td>\n",
       "      <td>...</td>\n",
       "      <td>...</td>\n",
       "      <td>...</td>\n",
       "    </tr>\n",
       "    <tr>\n",
       "      <th>3344</th>\n",
       "      <td>3344</td>\n",
       "      <td>Doraemon the Movie: Nobita in the Secret Gadge...</td>\n",
       "      <td>71.634063</td>\n",
       "      <td>70.004605</td>\n",
       "      <td>0.002574</td>\n",
       "      <td>0.201068</td>\n",
       "      <td>0.123085</td>\n",
       "    </tr>\n",
       "    <tr>\n",
       "      <th>5556</th>\n",
       "      <td>5556</td>\n",
       "      <td>Lupin the 3rd TV Special: Sweet Lost Night</td>\n",
       "      <td>53.699901</td>\n",
       "      <td>105.554355</td>\n",
       "      <td>0.002686</td>\n",
       "      <td>0.200062</td>\n",
       "      <td>0.078775</td>\n",
       "    </tr>\n",
       "    <tr>\n",
       "      <th>8262</th>\n",
       "      <td>8262</td>\n",
       "      <td>Black Butler</td>\n",
       "      <td>55.221557</td>\n",
       "      <td>99.514835</td>\n",
       "      <td>0.003994</td>\n",
       "      <td>0.173171</td>\n",
       "      <td>0.105033</td>\n",
       "    </tr>\n",
       "    <tr>\n",
       "      <th>5815</th>\n",
       "      <td>5815</td>\n",
       "      <td>Steven Universe</td>\n",
       "      <td>62.987539</td>\n",
       "      <td>66.530887</td>\n",
       "      <td>0.004380</td>\n",
       "      <td>0.159512</td>\n",
       "      <td>0.144639</td>\n",
       "    </tr>\n",
       "    <tr>\n",
       "      <th>5539</th>\n",
       "      <td>5539</td>\n",
       "      <td>The Vision of Escaflowne</td>\n",
       "      <td>47.055237</td>\n",
       "      <td>67.994366</td>\n",
       "      <td>0.005690</td>\n",
       "      <td>0.168628</td>\n",
       "      <td>0.127024</td>\n",
       "    </tr>\n",
       "  </tbody>\n",
       "</table>\n",
       "<p>9141 rows × 7 columns</p>\n",
       "</div>"
      ],
      "text/plain": [
       "        id                                               nome           _x  \\\n",
       "4570  4570                           The Accidental Detective  1462.444475   \n",
       "5880  5880                                    Suite Francaise   -49.057870   \n",
       "5879  5879                                             Legend    20.440279   \n",
       "5878  5878                    David Beckham: Into the Unknown  1146.086944   \n",
       "5877  5877                                        Daddys Home   848.418539   \n",
       "...    ...                                                ...          ...   \n",
       "3344  3344  Doraemon the Movie: Nobita in the Secret Gadge...    71.634063   \n",
       "5556  5556         Lupin the 3rd TV Special: Sweet Lost Night    53.699901   \n",
       "8262  8262                                       Black Butler    55.221557   \n",
       "5815  5815                                    Steven Universe    62.987539   \n",
       "5539  5539                           The Vision of Escaflowne    47.055237   \n",
       "\n",
       "              _y  betweenness  clustering    degree  \n",
       "4570 -296.184349     0.000000    0.000000  0.000000  \n",
       "5880   82.788402     0.000000    1.000000  0.000547  \n",
       "5879  180.686767     0.000000    1.000000  0.003282  \n",
       "5878  396.684496     0.000000    0.000000  0.000000  \n",
       "5877 -351.984671     0.000000    0.000000  0.000000  \n",
       "...          ...          ...         ...       ...  \n",
       "3344   70.004605     0.002574    0.201068  0.123085  \n",
       "5556  105.554355     0.002686    0.200062  0.078775  \n",
       "8262   99.514835     0.003994    0.173171  0.105033  \n",
       "5815   66.530887     0.004380    0.159512  0.144639  \n",
       "5539   67.994366     0.005690    0.168628  0.127024  \n",
       "\n",
       "[9141 rows x 7 columns]"
      ]
     },
     "execution_count": 8,
     "metadata": {},
     "output_type": "execute_result"
    }
   ],
   "source": [
    "df.sort_values(by='betweenness')"
   ]
  },
  {
   "cell_type": "code",
   "execution_count": 9,
   "id": "aa5c1004",
   "metadata": {},
   "outputs": [
    {
     "data": {
      "text/plain": [
       "Index(['Title', 'Genre', 'Tags', 'Languages', 'Series or Movie',\n",
       "       'Hidden Gem Score', 'Country Availability', 'Runtime', 'Director',\n",
       "       'Writer', 'Actors', 'View Rating', 'IMDb Score',\n",
       "       'Rotten Tomatoes Score', 'Metacritic Score', 'Awards Received',\n",
       "       'Awards Nominated For', 'Boxoffice', 'Release Date',\n",
       "       'Netflix Release Date', 'Production House', 'Netflix Link', 'IMDb Link',\n",
       "       'Summary', 'IMDb Votes', 'Image', 'Poster', 'TMDb Trailer',\n",
       "       'Trailer Site'],\n",
       "      dtype='object')"
      ]
     },
     "execution_count": 9,
     "metadata": {},
     "output_type": "execute_result"
    }
   ],
   "source": [
    "filmes.columns"
   ]
  },
  {
   "cell_type": "code",
   "execution_count": 10,
   "id": "ff1b4ee1",
   "metadata": {},
   "outputs": [],
   "source": [
    "# filmes_score = filmes[['IMDb Score', 'Title']].rename(columns={\"Title\":\"nome\"})\n",
    "filmes_score = filmes[['Rotten Tomatoes Score', 'Title']].rename(columns={\"Title\":\"nome\"})"
   ]
  },
  {
   "cell_type": "code",
   "execution_count": 11,
   "id": "fc27ab1f",
   "metadata": {},
   "outputs": [],
   "source": [
    "filmes_score.nome = filmes_score.nome.astype(str, copy=False)\n",
    "df.nome = df.nome.astype(str, copy=False)\n",
    "df.id = df.id.astype(int, copy=False)"
   ]
  },
  {
   "cell_type": "markdown",
   "id": "164a5c08",
   "metadata": {},
   "source": [
    "Remoção de filmes duplicados"
   ]
  },
  {
   "cell_type": "code",
   "execution_count": 12,
   "id": "605a16d1",
   "metadata": {},
   "outputs": [],
   "source": [
    "filmes_score = filmes_score.drop_duplicates(subset=['nome'], keep=False)"
   ]
  },
  {
   "cell_type": "code",
   "execution_count": 13,
   "id": "7f990aff",
   "metadata": {},
   "outputs": [
    {
     "data": {
      "text/html": [
       "<div>\n",
       "<style scoped>\n",
       "    .dataframe tbody tr th:only-of-type {\n",
       "        vertical-align: middle;\n",
       "    }\n",
       "\n",
       "    .dataframe tbody tr th {\n",
       "        vertical-align: top;\n",
       "    }\n",
       "\n",
       "    .dataframe thead th {\n",
       "        text-align: right;\n",
       "    }\n",
       "</style>\n",
       "<table border=\"1\" class=\"dataframe\">\n",
       "  <thead>\n",
       "    <tr style=\"text-align: right;\">\n",
       "      <th></th>\n",
       "      <th>Rotten Tomatoes Score</th>\n",
       "      <th>nome</th>\n",
       "    </tr>\n",
       "  </thead>\n",
       "  <tbody>\n",
       "    <tr>\n",
       "      <th>0</th>\n",
       "      <td>98.0</td>\n",
       "      <td>Lets Fight Ghost</td>\n",
       "    </tr>\n",
       "    <tr>\n",
       "      <th>1</th>\n",
       "      <td>79.0</td>\n",
       "      <td>HOW TO BUILD A GIRL</td>\n",
       "    </tr>\n",
       "    <tr>\n",
       "      <th>6</th>\n",
       "      <td>20.0</td>\n",
       "      <td>The Invisible</td>\n",
       "    </tr>\n",
       "    <tr>\n",
       "      <th>7</th>\n",
       "      <td>92.0</td>\n",
       "      <td>The Simple Minded Murderer</td>\n",
       "    </tr>\n",
       "    <tr>\n",
       "      <th>10</th>\n",
       "      <td>52.0</td>\n",
       "      <td>I</td>\n",
       "    </tr>\n",
       "  </tbody>\n",
       "</table>\n",
       "</div>"
      ],
      "text/plain": [
       "    Rotten Tomatoes Score                        nome\n",
       "0                    98.0            Lets Fight Ghost\n",
       "1                    79.0         HOW TO BUILD A GIRL\n",
       "6                    20.0               The Invisible\n",
       "7                    92.0  The Simple Minded Murderer\n",
       "10                   52.0                           I"
      ]
     },
     "execution_count": 13,
     "metadata": {},
     "output_type": "execute_result"
    }
   ],
   "source": [
    "filmes_score = filmes_score.dropna()\n",
    "filmes_score.head()"
   ]
  },
  {
   "cell_type": "markdown",
   "id": "03954c06",
   "metadata": {},
   "source": [
    "Adição da coluna `Rotten Tomatoes Score` ao datafram `df`"
   ]
  },
  {
   "cell_type": "code",
   "execution_count": 14,
   "id": "b658f462",
   "metadata": {},
   "outputs": [
    {
     "data": {
      "text/html": [
       "<div>\n",
       "<style scoped>\n",
       "    .dataframe tbody tr th:only-of-type {\n",
       "        vertical-align: middle;\n",
       "    }\n",
       "\n",
       "    .dataframe tbody tr th {\n",
       "        vertical-align: top;\n",
       "    }\n",
       "\n",
       "    .dataframe thead th {\n",
       "        text-align: right;\n",
       "    }\n",
       "</style>\n",
       "<table border=\"1\" class=\"dataframe\">\n",
       "  <thead>\n",
       "    <tr style=\"text-align: right;\">\n",
       "      <th></th>\n",
       "      <th>id</th>\n",
       "      <th>nome</th>\n",
       "      <th>_x</th>\n",
       "      <th>_y</th>\n",
       "      <th>betweenness</th>\n",
       "      <th>clustering</th>\n",
       "      <th>degree</th>\n",
       "    </tr>\n",
       "  </thead>\n",
       "  <tbody>\n",
       "    <tr>\n",
       "      <th>0</th>\n",
       "      <td>0</td>\n",
       "      <td>Lets Fight Ghost</td>\n",
       "      <td>-1.436253</td>\n",
       "      <td>77.806371</td>\n",
       "      <td>0.000003</td>\n",
       "      <td>0.794466</td>\n",
       "      <td>0.002516</td>\n",
       "    </tr>\n",
       "    <tr>\n",
       "      <th>1</th>\n",
       "      <td>1</td>\n",
       "      <td>HOW TO BUILD A GIRL</td>\n",
       "      <td>-229.729180</td>\n",
       "      <td>1039.631642</td>\n",
       "      <td>0.000000</td>\n",
       "      <td>0.000000</td>\n",
       "      <td>0.000000</td>\n",
       "    </tr>\n",
       "    <tr>\n",
       "      <th>2</th>\n",
       "      <td>2</td>\n",
       "      <td>The Con-Heartist</td>\n",
       "      <td>854.216640</td>\n",
       "      <td>357.749654</td>\n",
       "      <td>0.000000</td>\n",
       "      <td>0.000000</td>\n",
       "      <td>0.000000</td>\n",
       "    </tr>\n",
       "    <tr>\n",
       "      <th>3</th>\n",
       "      <td>3</td>\n",
       "      <td>Gleboka woda</td>\n",
       "      <td>-62.084147</td>\n",
       "      <td>-830.782865</td>\n",
       "      <td>0.000000</td>\n",
       "      <td>0.000000</td>\n",
       "      <td>0.000000</td>\n",
       "    </tr>\n",
       "  </tbody>\n",
       "</table>\n",
       "</div>"
      ],
      "text/plain": [
       "   id                 nome          _x           _y  betweenness  clustering  \\\n",
       "0   0     Lets Fight Ghost   -1.436253    77.806371     0.000003    0.794466   \n",
       "1   1  HOW TO BUILD A GIRL -229.729180  1039.631642     0.000000    0.000000   \n",
       "2   2     The Con-Heartist  854.216640   357.749654     0.000000    0.000000   \n",
       "3   3         Gleboka woda  -62.084147  -830.782865     0.000000    0.000000   \n",
       "\n",
       "     degree  \n",
       "0  0.002516  \n",
       "1  0.000000  \n",
       "2  0.000000  \n",
       "3  0.000000  "
      ]
     },
     "execution_count": 14,
     "metadata": {},
     "output_type": "execute_result"
    }
   ],
   "source": [
    "df.head(4)"
   ]
  },
  {
   "cell_type": "code",
   "execution_count": 15,
   "id": "93707f54",
   "metadata": {
    "scrolled": false
   },
   "outputs": [],
   "source": [
    "df = df.set_index('nome').join(filmes_score.set_index('nome'), how='left').reset_index()"
   ]
  },
  {
   "cell_type": "code",
   "execution_count": 16,
   "id": "7e2931a6",
   "metadata": {},
   "outputs": [
    {
     "data": {
      "text/plain": [
       "count                 9141\n",
       "unique                9141\n",
       "top       Lets Fight Ghost\n",
       "freq                     1\n",
       "Name: nome, dtype: object"
      ]
     },
     "execution_count": 16,
     "metadata": {},
     "output_type": "execute_result"
    }
   ],
   "source": [
    "df.nome.describe()"
   ]
  },
  {
   "cell_type": "code",
   "execution_count": 17,
   "id": "56df0ac5",
   "metadata": {},
   "outputs": [],
   "source": [
    "# aqui tinhamos o desempenho\n",
    "# df = df.rename(columns={\"IMDb Score\": 'desempenho'})\n",
    "\n",
    "# nova métrica: reputação\n",
    "df = df.rename(columns={\"Rotten Tomatoes Score\": 'reputacao'})"
   ]
  },
  {
   "cell_type": "code",
   "execution_count": 18,
   "id": "421ab022",
   "metadata": {
    "scrolled": true
   },
   "outputs": [],
   "source": [
    "df = df.dropna() # melhorar isso futuramente"
   ]
  },
  {
   "cell_type": "code",
   "execution_count": 19,
   "id": "8b5945e7",
   "metadata": {},
   "outputs": [
    {
     "data": {
      "text/html": [
       "<div>\n",
       "<style scoped>\n",
       "    .dataframe tbody tr th:only-of-type {\n",
       "        vertical-align: middle;\n",
       "    }\n",
       "\n",
       "    .dataframe tbody tr th {\n",
       "        vertical-align: top;\n",
       "    }\n",
       "\n",
       "    .dataframe thead th {\n",
       "        text-align: right;\n",
       "    }\n",
       "</style>\n",
       "<table border=\"1\" class=\"dataframe\">\n",
       "  <thead>\n",
       "    <tr style=\"text-align: right;\">\n",
       "      <th></th>\n",
       "      <th>nome</th>\n",
       "      <th>id</th>\n",
       "      <th>_x</th>\n",
       "      <th>_y</th>\n",
       "      <th>betweenness</th>\n",
       "      <th>clustering</th>\n",
       "      <th>degree</th>\n",
       "      <th>reputacao</th>\n",
       "    </tr>\n",
       "  </thead>\n",
       "  <tbody>\n",
       "    <tr>\n",
       "      <th>0</th>\n",
       "      <td>Lets Fight Ghost</td>\n",
       "      <td>0</td>\n",
       "      <td>-1.436253</td>\n",
       "      <td>77.806371</td>\n",
       "      <td>0.000003</td>\n",
       "      <td>0.794466</td>\n",
       "      <td>0.002516</td>\n",
       "      <td>98.0</td>\n",
       "    </tr>\n",
       "    <tr>\n",
       "      <th>1</th>\n",
       "      <td>HOW TO BUILD A GIRL</td>\n",
       "      <td>1</td>\n",
       "      <td>-229.729180</td>\n",
       "      <td>1039.631642</td>\n",
       "      <td>0.000000</td>\n",
       "      <td>0.000000</td>\n",
       "      <td>0.000000</td>\n",
       "      <td>79.0</td>\n",
       "    </tr>\n",
       "    <tr>\n",
       "      <th>6</th>\n",
       "      <td>The Invisible</td>\n",
       "      <td>6</td>\n",
       "      <td>55.645344</td>\n",
       "      <td>122.529907</td>\n",
       "      <td>0.000031</td>\n",
       "      <td>0.653269</td>\n",
       "      <td>0.024836</td>\n",
       "      <td>20.0</td>\n",
       "    </tr>\n",
       "    <tr>\n",
       "      <th>7</th>\n",
       "      <td>The Simple Minded Murderer</td>\n",
       "      <td>7</td>\n",
       "      <td>-1144.111152</td>\n",
       "      <td>-437.080844</td>\n",
       "      <td>0.000000</td>\n",
       "      <td>0.000000</td>\n",
       "      <td>0.000000</td>\n",
       "      <td>92.0</td>\n",
       "    </tr>\n",
       "  </tbody>\n",
       "</table>\n",
       "</div>"
      ],
      "text/plain": [
       "                         nome  id           _x           _y  betweenness  \\\n",
       "0            Lets Fight Ghost   0    -1.436253    77.806371     0.000003   \n",
       "1         HOW TO BUILD A GIRL   1  -229.729180  1039.631642     0.000000   \n",
       "6               The Invisible   6    55.645344   122.529907     0.000031   \n",
       "7  The Simple Minded Murderer   7 -1144.111152  -437.080844     0.000000   \n",
       "\n",
       "   clustering    degree  reputacao  \n",
       "0    0.794466  0.002516       98.0  \n",
       "1    0.000000  0.000000       79.0  \n",
       "6    0.653269  0.024836       20.0  \n",
       "7    0.000000  0.000000       92.0  "
      ]
     },
     "execution_count": 19,
     "metadata": {},
     "output_type": "execute_result"
    }
   ],
   "source": [
    "df.head(4)"
   ]
  },
  {
   "cell_type": "code",
   "execution_count": 20,
   "id": "2e1fbd71",
   "metadata": {},
   "outputs": [],
   "source": [
    "import seaborn as sns\n",
    "sns.set()"
   ]
  },
  {
   "cell_type": "code",
   "execution_count": 21,
   "id": "b1fe2f82",
   "metadata": {},
   "outputs": [],
   "source": [
    "import statsmodels.formula.api as smf"
   ]
  },
  {
   "cell_type": "markdown",
   "id": "9469ed56",
   "metadata": {},
   "source": [
    "### Agrupamento"
   ]
  },
  {
   "cell_type": "code",
   "execution_count": 22,
   "id": "d836cd37",
   "metadata": {},
   "outputs": [
    {
     "data": {
      "text/html": [
       "<div>\n",
       "<style scoped>\n",
       "    .dataframe tbody tr th:only-of-type {\n",
       "        vertical-align: middle;\n",
       "    }\n",
       "\n",
       "    .dataframe tbody tr th {\n",
       "        vertical-align: top;\n",
       "    }\n",
       "\n",
       "    .dataframe thead th {\n",
       "        text-align: right;\n",
       "    }\n",
       "</style>\n",
       "<table border=\"1\" class=\"dataframe\">\n",
       "  <thead>\n",
       "    <tr style=\"text-align: right;\">\n",
       "      <th></th>\n",
       "      <th>nome</th>\n",
       "      <th>id</th>\n",
       "      <th>_x</th>\n",
       "      <th>_y</th>\n",
       "      <th>betweenness</th>\n",
       "      <th>clustering</th>\n",
       "      <th>degree</th>\n",
       "      <th>reputacao</th>\n",
       "    </tr>\n",
       "  </thead>\n",
       "  <tbody>\n",
       "    <tr>\n",
       "      <th>0</th>\n",
       "      <td>Lets Fight Ghost</td>\n",
       "      <td>0</td>\n",
       "      <td>-1.436253</td>\n",
       "      <td>77.806371</td>\n",
       "      <td>0.000003</td>\n",
       "      <td>0.794466</td>\n",
       "      <td>0.002516</td>\n",
       "      <td>98.0</td>\n",
       "    </tr>\n",
       "    <tr>\n",
       "      <th>6</th>\n",
       "      <td>The Invisible</td>\n",
       "      <td>6</td>\n",
       "      <td>55.645344</td>\n",
       "      <td>122.529907</td>\n",
       "      <td>0.000031</td>\n",
       "      <td>0.653269</td>\n",
       "      <td>0.024836</td>\n",
       "      <td>20.0</td>\n",
       "    </tr>\n",
       "    <tr>\n",
       "      <th>62</th>\n",
       "      <td>Ride Your Wave</td>\n",
       "      <td>62</td>\n",
       "      <td>44.678612</td>\n",
       "      <td>36.371525</td>\n",
       "      <td>0.000211</td>\n",
       "      <td>0.465652</td>\n",
       "      <td>0.044311</td>\n",
       "      <td>93.0</td>\n",
       "    </tr>\n",
       "    <tr>\n",
       "      <th>89</th>\n",
       "      <td>The Shadow</td>\n",
       "      <td>89</td>\n",
       "      <td>67.704799</td>\n",
       "      <td>97.362622</td>\n",
       "      <td>0.000023</td>\n",
       "      <td>0.452498</td>\n",
       "      <td>0.021335</td>\n",
       "      <td>35.0</td>\n",
       "    </tr>\n",
       "  </tbody>\n",
       "</table>\n",
       "</div>"
      ],
      "text/plain": [
       "                nome  id         _x          _y  betweenness  clustering  \\\n",
       "0   Lets Fight Ghost   0  -1.436253   77.806371     0.000003    0.794466   \n",
       "6      The Invisible   6  55.645344  122.529907     0.000031    0.653269   \n",
       "62    Ride Your Wave  62  44.678612   36.371525     0.000211    0.465652   \n",
       "89        The Shadow  89  67.704799   97.362622     0.000023    0.452498   \n",
       "\n",
       "      degree  reputacao  \n",
       "0   0.002516       98.0  \n",
       "6   0.024836       20.0  \n",
       "62  0.044311       93.0  \n",
       "89  0.021335       35.0  "
      ]
     },
     "execution_count": 22,
     "metadata": {},
     "output_type": "execute_result"
    }
   ],
   "source": [
    "# pegamos apenas os betweenness com valores > 0 \n",
    "df_positivos = df[df['betweenness'] > 0]\n",
    "df_positivos.head(4)"
   ]
  },
  {
   "cell_type": "code",
   "execution_count": 23,
   "id": "f0143823",
   "metadata": {},
   "outputs": [
    {
     "data": {
      "text/plain": [
       "<AxesSubplot:xlabel='betweenness', ylabel='reputacao'>"
      ]
     },
     "execution_count": 23,
     "metadata": {},
     "output_type": "execute_result"
    },
    {
     "data": {
      "image/png": "[encoded data removed]",
      "text/plain": [
       "<Figure size 432x288 with 1 Axes>"
      ]
     },
     "metadata": {},
     "output_type": "display_data"
    }
   ],
   "source": [
    "sns.regplot(x=df_positivos['betweenness'], y=(df_positivos['reputacao']))"
   ]
  },
  {
   "cell_type": "code",
   "execution_count": 24,
   "id": "ca9732f8",
   "metadata": {},
   "outputs": [
    {
     "data": {
      "text/plain": [
       "<AxesSubplot:xlabel='betweenness', ylabel='reputacao'>"
      ]
     },
     "execution_count": 24,
     "metadata": {},
     "output_type": "execute_result"
    },
    {
     "data": {
      "image/png": "[encoded data removed]",
      "text/plain": [
       "<Figure size 432x288 with 1 Axes>"
      ]
     },
     "metadata": {},
     "output_type": "display_data"
    }
   ],
   "source": [
    "sns.regplot(x=np.log(df_positivos['betweenness']), y=df_positivos['reputacao'])"
   ]
  },
  {
   "cell_type": "code",
   "execution_count": 25,
   "id": "5a1a81ee",
   "metadata": {},
   "outputs": [
    {
     "data": {
      "text/html": [
       "<table class=\"simpletable\">\n",
       "<caption>OLS Regression Results</caption>\n",
       "<tr>\n",
       "  <th>Dep. Variable:</th>        <td>reputacao</td>    <th>  R-squared:         </th> <td>   0.019</td>\n",
       "</tr>\n",
       "<tr>\n",
       "  <th>Model:</th>                   <td>OLS</td>       <th>  Adj. R-squared:    </th> <td>   0.017</td>\n",
       "</tr>\n",
       "<tr>\n",
       "  <th>Method:</th>             <td>Least Squares</td>  <th>  F-statistic:       </th> <td>   10.81</td>\n",
       "</tr>\n",
       "<tr>\n",
       "  <th>Date:</th>             <td>Mon, 22 Nov 2021</td> <th>  Prob (F-statistic):</th>  <td>0.00107</td>\n",
       "</tr>\n",
       "<tr>\n",
       "  <th>Time:</th>                 <td>13:29:07</td>     <th>  Log-Likelihood:    </th> <td> -2657.1</td>\n",
       "</tr>\n",
       "<tr>\n",
       "  <th>No. Observations:</th>      <td>   570</td>      <th>  AIC:               </th> <td>   5318.</td>\n",
       "</tr>\n",
       "<tr>\n",
       "  <th>Df Residuals:</th>          <td>   568</td>      <th>  BIC:               </th> <td>   5327.</td>\n",
       "</tr>\n",
       "<tr>\n",
       "  <th>Df Model:</th>              <td>     1</td>      <th>                     </th>     <td> </td>   \n",
       "</tr>\n",
       "<tr>\n",
       "  <th>Covariance Type:</th>      <td>nonrobust</td>    <th>                     </th>     <td> </td>   \n",
       "</tr>\n",
       "</table>\n",
       "<table class=\"simpletable\">\n",
       "<tr>\n",
       "           <td></td>              <th>coef</th>     <th>std err</th>      <th>t</th>      <th>P>|t|</th>  <th>[0.025</th>    <th>0.975]</th>  \n",
       "</tr>\n",
       "<tr>\n",
       "  <th>Intercept</th>           <td>   87.3210</td> <td>    7.219</td> <td>   12.095</td> <td> 0.000</td> <td>   73.141</td> <td>  101.501</td>\n",
       "</tr>\n",
       "<tr>\n",
       "  <th>np.log(betweenness)</th> <td>    2.1177</td> <td>    0.644</td> <td>    3.287</td> <td> 0.001</td> <td>    0.852</td> <td>    3.383</td>\n",
       "</tr>\n",
       "</table>\n",
       "<table class=\"simpletable\">\n",
       "<tr>\n",
       "  <th>Omnibus:</th>       <td>53.571</td> <th>  Durbin-Watson:     </th> <td>   1.913</td>\n",
       "</tr>\n",
       "<tr>\n",
       "  <th>Prob(Omnibus):</th> <td> 0.000</td> <th>  Jarque-Bera (JB):  </th> <td>  40.192</td>\n",
       "</tr>\n",
       "<tr>\n",
       "  <th>Skew:</th>          <td>-0.549</td> <th>  Prob(JB):          </th> <td>1.87e-09</td>\n",
       "</tr>\n",
       "<tr>\n",
       "  <th>Kurtosis:</th>      <td> 2.302</td> <th>  Cond. No.          </th> <td>    75.9</td>\n",
       "</tr>\n",
       "</table><br/><br/>Notes:<br/>[1] Standard Errors assume that the covariance matrix of the errors is correctly specified."
      ],
      "text/plain": [
       "<class 'statsmodels.iolib.summary.Summary'>\n",
       "\"\"\"\n",
       "                            OLS Regression Results                            \n",
       "==============================================================================\n",
       "Dep. Variable:              reputacao   R-squared:                       0.019\n",
       "Model:                            OLS   Adj. R-squared:                  0.017\n",
       "Method:                 Least Squares   F-statistic:                     10.81\n",
       "Date:                Mon, 22 Nov 2021   Prob (F-statistic):            0.00107\n",
       "Time:                        13:29:07   Log-Likelihood:                -2657.1\n",
       "No. Observations:                 570   AIC:                             5318.\n",
       "Df Residuals:                     568   BIC:                             5327.\n",
       "Df Model:                           1                                         \n",
       "Covariance Type:            nonrobust                                         \n",
       "=======================================================================================\n",
       "                          coef    std err          t      P>|t|      [0.025      0.975]\n",
       "---------------------------------------------------------------------------------------\n",
       "Intercept              87.3210      7.219     12.095      0.000      73.141     101.501\n",
       "np.log(betweenness)     2.1177      0.644      3.287      0.001       0.852       3.383\n",
       "==============================================================================\n",
       "Omnibus:                       53.571   Durbin-Watson:                   1.913\n",
       "Prob(Omnibus):                  0.000   Jarque-Bera (JB):               40.192\n",
       "Skew:                          -0.549   Prob(JB):                     1.87e-09\n",
       "Kurtosis:                       2.302   Cond. No.                         75.9\n",
       "==============================================================================\n",
       "\n",
       "Notes:\n",
       "[1] Standard Errors assume that the covariance matrix of the errors is correctly specified.\n",
       "\"\"\""
      ]
     },
     "execution_count": 25,
     "metadata": {},
     "output_type": "execute_result"
    }
   ],
   "source": [
    "model = smf.ols(data=df_positivos, formula='reputacao ~ np.log(betweenness)')\n",
    "result = model.fit()\n",
    "result.summary()"
   ]
  },
  {
   "cell_type": "markdown",
   "id": "6051893a",
   "metadata": {},
   "source": [
    "Como esperado após a análise dos gráficos, o R² é bem pequeno quando queremos explicar o desempenho levando em conta o __betweenness__. Além disso, podemos ver que o coeficiente é positivo, indicando que existe uma relação positiva, no entanto, o _p\\_valor_ é muito grande, ou seja, não podemos rejeitar a hipótese nula de que não há relação."
   ]
  },
  {
   "cell_type": "markdown",
   "id": "8b5f5404",
   "metadata": {},
   "source": [
    "### Diversidade"
   ]
  },
  {
   "cell_type": "code",
   "execution_count": 26,
   "id": "a34d565b",
   "metadata": {},
   "outputs": [
    {
     "data": {
      "text/plain": [
       "<AxesSubplot:xlabel='clustering', ylabel='reputacao'>"
      ]
     },
     "execution_count": 26,
     "metadata": {},
     "output_type": "execute_result"
    },
    {
     "data": {
      "image/png": "[encoded data removed]",
      "text/plain": [
       "<Figure size 432x288 with 1 Axes>"
      ]
     },
     "metadata": {},
     "output_type": "display_data"
    }
   ],
   "source": [
    "sns.regplot(x=df_positivos['clustering'], y=df_positivos['reputacao']) # % dos vizinhos conectados entre si \n",
    "\n",
    "# colocar como variavel de controle -> degree"
   ]
  },
  {
   "cell_type": "code",
   "execution_count": 27,
   "id": "b93d2615",
   "metadata": {
    "scrolled": false
   },
   "outputs": [
    {
     "data": {
      "text/html": [
       "<table class=\"simpletable\">\n",
       "<caption>OLS Regression Results</caption>\n",
       "<tr>\n",
       "  <th>Dep. Variable:</th>        <td>reputacao</td>    <th>  R-squared:         </th> <td>   0.002</td>\n",
       "</tr>\n",
       "<tr>\n",
       "  <th>Model:</th>                   <td>OLS</td>       <th>  Adj. R-squared:    </th> <td>   0.000</td>\n",
       "</tr>\n",
       "<tr>\n",
       "  <th>Method:</th>             <td>Least Squares</td>  <th>  F-statistic:       </th> <td>   1.167</td>\n",
       "</tr>\n",
       "<tr>\n",
       "  <th>Date:</th>             <td>Mon, 22 Nov 2021</td> <th>  Prob (F-statistic):</th>  <td> 0.280</td> \n",
       "</tr>\n",
       "<tr>\n",
       "  <th>Time:</th>                 <td>13:29:08</td>     <th>  Log-Likelihood:    </th> <td> -2661.9</td>\n",
       "</tr>\n",
       "<tr>\n",
       "  <th>No. Observations:</th>      <td>   570</td>      <th>  AIC:               </th> <td>   5328.</td>\n",
       "</tr>\n",
       "<tr>\n",
       "  <th>Df Residuals:</th>          <td>   568</td>      <th>  BIC:               </th> <td>   5336.</td>\n",
       "</tr>\n",
       "<tr>\n",
       "  <th>Df Model:</th>              <td>     1</td>      <th>                     </th>     <td> </td>   \n",
       "</tr>\n",
       "<tr>\n",
       "  <th>Covariance Type:</th>      <td>nonrobust</td>    <th>                     </th>     <td> </td>   \n",
       "</tr>\n",
       "</table>\n",
       "<table class=\"simpletable\">\n",
       "<tr>\n",
       "       <td></td>         <th>coef</th>     <th>std err</th>      <th>t</th>      <th>P>|t|</th>  <th>[0.025</th>    <th>0.975]</th>  \n",
       "</tr>\n",
       "<tr>\n",
       "  <th>Intercept</th>  <td>   68.2560</td> <td>    4.215</td> <td>   16.193</td> <td> 0.000</td> <td>   59.977</td> <td>   76.535</td>\n",
       "</tr>\n",
       "<tr>\n",
       "  <th>clustering</th> <td>   -6.9868</td> <td>    6.466</td> <td>   -1.080</td> <td> 0.280</td> <td>  -19.688</td> <td>    5.714</td>\n",
       "</tr>\n",
       "</table>\n",
       "<table class=\"simpletable\">\n",
       "<tr>\n",
       "  <th>Omnibus:</th>       <td>56.643</td> <th>  Durbin-Watson:     </th> <td>   1.911</td>\n",
       "</tr>\n",
       "<tr>\n",
       "  <th>Prob(Omnibus):</th> <td> 0.000</td> <th>  Jarque-Bera (JB):  </th> <td>  44.135</td>\n",
       "</tr>\n",
       "<tr>\n",
       "  <th>Skew:</th>          <td>-0.586</td> <th>  Prob(JB):          </th> <td>2.61e-10</td>\n",
       "</tr>\n",
       "<tr>\n",
       "  <th>Kurtosis:</th>      <td> 2.302</td> <th>  Cond. No.          </th> <td>    8.39</td>\n",
       "</tr>\n",
       "</table><br/><br/>Notes:<br/>[1] Standard Errors assume that the covariance matrix of the errors is correctly specified."
      ],
      "text/plain": [
       "<class 'statsmodels.iolib.summary.Summary'>\n",
       "\"\"\"\n",
       "                            OLS Regression Results                            \n",
       "==============================================================================\n",
       "Dep. Variable:              reputacao   R-squared:                       0.002\n",
       "Model:                            OLS   Adj. R-squared:                  0.000\n",
       "Method:                 Least Squares   F-statistic:                     1.167\n",
       "Date:                Mon, 22 Nov 2021   Prob (F-statistic):              0.280\n",
       "Time:                        13:29:08   Log-Likelihood:                -2661.9\n",
       "No. Observations:                 570   AIC:                             5328.\n",
       "Df Residuals:                     568   BIC:                             5336.\n",
       "Df Model:                           1                                         \n",
       "Covariance Type:            nonrobust                                         \n",
       "==============================================================================\n",
       "                 coef    std err          t      P>|t|      [0.025      0.975]\n",
       "------------------------------------------------------------------------------\n",
       "Intercept     68.2560      4.215     16.193      0.000      59.977      76.535\n",
       "clustering    -6.9868      6.466     -1.080      0.280     -19.688       5.714\n",
       "==============================================================================\n",
       "Omnibus:                       56.643   Durbin-Watson:                   1.911\n",
       "Prob(Omnibus):                  0.000   Jarque-Bera (JB):               44.135\n",
       "Skew:                          -0.586   Prob(JB):                     2.61e-10\n",
       "Kurtosis:                       2.302   Cond. No.                         8.39\n",
       "==============================================================================\n",
       "\n",
       "Notes:\n",
       "[1] Standard Errors assume that the covariance matrix of the errors is correctly specified.\n",
       "\"\"\""
      ]
     },
     "execution_count": 27,
     "metadata": {},
     "output_type": "execute_result"
    }
   ],
   "source": [
    "model = smf.ols(data=df_positivos, formula='reputacao ~ clustering')\n",
    "result = model.fit()\n",
    "result.summary()"
   ]
  },
  {
   "cell_type": "markdown",
   "id": "e5040411",
   "metadata": {},
   "source": [
    "O R² é desprezível quando queremos explicar o __desempenho__ levando em conta o __clustering__. Além disso, podemos ver que o coeficiente é negativo, indicando que existe uma relação negativa, no entanto, o _p\\_valor_ é muito grande, ou seja, também não podemos rejeitar a hipótese nula de que não há relação."
   ]
  },
  {
   "cell_type": "markdown",
   "id": "f5efe918",
   "metadata": {},
   "source": [
    "Após analisarmos individualmente a contribuição de cada variável, decidimos testar o impacto da combinação das duas no desempenho do filme."
   ]
  },
  {
   "cell_type": "code",
   "execution_count": 28,
   "id": "fe7a26c8",
   "metadata": {},
   "outputs": [
    {
     "data": {
      "text/plain": [
       "<AxesSubplot:ylabel='reputacao'>"
      ]
     },
     "execution_count": 28,
     "metadata": {},
     "output_type": "execute_result"
    },
    {
     "data": {
      "image/png": "[encoded data removed]",
      "text/plain": [
       "<Figure size 432x288 with 1 Axes>"
      ]
     },
     "metadata": {},
     "output_type": "display_data"
    }
   ],
   "source": [
    "sns.regplot(x=np.log(df_positivos['betweenness'])+df_positivos['clustering'], y=df_positivos['reputacao'])\n"
   ]
  },
  {
   "cell_type": "code",
   "execution_count": 29,
   "id": "91ca5889",
   "metadata": {},
   "outputs": [
    {
     "data": {
      "text/html": [
       "<table class=\"simpletable\">\n",
       "<caption>OLS Regression Results</caption>\n",
       "<tr>\n",
       "  <th>Dep. Variable:</th>        <td>reputacao</td>    <th>  R-squared:         </th> <td>   0.025</td>\n",
       "</tr>\n",
       "<tr>\n",
       "  <th>Model:</th>                   <td>OLS</td>       <th>  Adj. R-squared:    </th> <td>   0.022</td>\n",
       "</tr>\n",
       "<tr>\n",
       "  <th>Method:</th>             <td>Least Squares</td>  <th>  F-statistic:       </th> <td>   7.344</td>\n",
       "</tr>\n",
       "<tr>\n",
       "  <th>Date:</th>             <td>Mon, 22 Nov 2021</td> <th>  Prob (F-statistic):</th> <td>0.000710</td>\n",
       "</tr>\n",
       "<tr>\n",
       "  <th>Time:</th>                 <td>13:29:08</td>     <th>  Log-Likelihood:    </th> <td> -2655.2</td>\n",
       "</tr>\n",
       "<tr>\n",
       "  <th>No. Observations:</th>      <td>   570</td>      <th>  AIC:               </th> <td>   5316.</td>\n",
       "</tr>\n",
       "<tr>\n",
       "  <th>Df Residuals:</th>          <td>   567</td>      <th>  BIC:               </th> <td>   5329.</td>\n",
       "</tr>\n",
       "<tr>\n",
       "  <th>Df Model:</th>              <td>     2</td>      <th>                     </th>     <td> </td>   \n",
       "</tr>\n",
       "<tr>\n",
       "  <th>Covariance Type:</th>      <td>nonrobust</td>    <th>                     </th>     <td> </td>   \n",
       "</tr>\n",
       "</table>\n",
       "<table class=\"simpletable\">\n",
       "<tr>\n",
       "           <td></td>              <th>coef</th>     <th>std err</th>      <th>t</th>      <th>P>|t|</th>  <th>[0.025</th>    <th>0.975]</th>  \n",
       "</tr>\n",
       "<tr>\n",
       "  <th>Intercept</th>           <td>   90.7825</td> <td>    7.416</td> <td>   12.242</td> <td> 0.000</td> <td>   76.217</td> <td>  105.348</td>\n",
       "</tr>\n",
       "<tr>\n",
       "  <th>np.log(betweenness)</th> <td>    3.4784</td> <td>    0.947</td> <td>    3.673</td> <td> 0.000</td> <td>    1.619</td> <td>    5.338</td>\n",
       "</tr>\n",
       "<tr>\n",
       "  <th>clustering</th>          <td>   18.4411</td> <td>    9.425</td> <td>    1.957</td> <td> 0.051</td> <td>   -0.071</td> <td>   36.953</td>\n",
       "</tr>\n",
       "</table>\n",
       "<table class=\"simpletable\">\n",
       "<tr>\n",
       "  <th>Omnibus:</th>       <td>56.330</td> <th>  Durbin-Watson:     </th> <td>   1.919</td>\n",
       "</tr>\n",
       "<tr>\n",
       "  <th>Prob(Omnibus):</th> <td> 0.000</td> <th>  Jarque-Bera (JB):  </th> <td>  39.462</td>\n",
       "</tr>\n",
       "<tr>\n",
       "  <th>Skew:</th>          <td>-0.532</td> <th>  Prob(JB):          </th> <td>2.70e-09</td>\n",
       "</tr>\n",
       "<tr>\n",
       "  <th>Kurtosis:</th>      <td> 2.273</td> <th>  Cond. No.          </th> <td>    103.</td>\n",
       "</tr>\n",
       "</table><br/><br/>Notes:<br/>[1] Standard Errors assume that the covariance matrix of the errors is correctly specified."
      ],
      "text/plain": [
       "<class 'statsmodels.iolib.summary.Summary'>\n",
       "\"\"\"\n",
       "                            OLS Regression Results                            \n",
       "==============================================================================\n",
       "Dep. Variable:              reputacao   R-squared:                       0.025\n",
       "Model:                            OLS   Adj. R-squared:                  0.022\n",
       "Method:                 Least Squares   F-statistic:                     7.344\n",
       "Date:                Mon, 22 Nov 2021   Prob (F-statistic):           0.000710\n",
       "Time:                        13:29:08   Log-Likelihood:                -2655.2\n",
       "No. Observations:                 570   AIC:                             5316.\n",
       "Df Residuals:                     567   BIC:                             5329.\n",
       "Df Model:                           2                                         \n",
       "Covariance Type:            nonrobust                                         \n",
       "=======================================================================================\n",
       "                          coef    std err          t      P>|t|      [0.025      0.975]\n",
       "---------------------------------------------------------------------------------------\n",
       "Intercept              90.7825      7.416     12.242      0.000      76.217     105.348\n",
       "np.log(betweenness)     3.4784      0.947      3.673      0.000       1.619       5.338\n",
       "clustering             18.4411      9.425      1.957      0.051      -0.071      36.953\n",
       "==============================================================================\n",
       "Omnibus:                       56.330   Durbin-Watson:                   1.919\n",
       "Prob(Omnibus):                  0.000   Jarque-Bera (JB):               39.462\n",
       "Skew:                          -0.532   Prob(JB):                     2.70e-09\n",
       "Kurtosis:                       2.273   Cond. No.                         103.\n",
       "==============================================================================\n",
       "\n",
       "Notes:\n",
       "[1] Standard Errors assume that the covariance matrix of the errors is correctly specified.\n",
       "\"\"\""
      ]
     },
     "execution_count": 29,
     "metadata": {},
     "output_type": "execute_result"
    }
   ],
   "source": [
    "model = smf.ols(data=df_positivos, formula='reputacao ~ np.log(betweenness) + clustering')\n",
    "result = model.fit()\n",
    "result.summary()"
   ]
  },
  {
   "cell_type": "markdown",
   "id": "df2578f1",
   "metadata": {},
   "source": [
    "Pelo que se pode observar, a contribuição da combinação das variáveis não parece ser suficiente para explicar o desempenho de um filme. A combinação dos coeficientes com seus respectivos _p\\_valores_ continua ruim, no entanto, podemos ver uma melhoria ínfima no R²."
   ]
  },
  {
   "cell_type": "markdown",
   "id": "44735c47",
   "metadata": {},
   "source": [
    "Portanto, dado que a hipótese era que, de alguma forma, o __agrupamento__ e a __diversidade__ explicavam o __desempenho__, pode-se dizer que a hipótese não se comprova estatisticamente ou que precisaríamos de um refinamento melhor no modelo."
   ]
  },
  {
   "cell_type": "markdown",
   "id": "a5c20e65",
   "metadata": {},
   "source": [
    "## Iterando com degree\n",
    "\n",
    "Considerando o impacto do degree sobre a variável clustering"
   ]
  },
  {
   "cell_type": "code",
   "execution_count": 30,
   "id": "8ac2f4ef",
   "metadata": {},
   "outputs": [
    {
     "data": {
      "text/plain": [
       "<AxesSubplot:xlabel='degree', ylabel='reputacao'>"
      ]
     },
     "execution_count": 30,
     "metadata": {},
     "output_type": "execute_result"
    },
    {
     "data": {
      "image/png": "[encoded data removed]",
      "text/plain": [
       "<Figure size 432x288 with 1 Axes>"
      ]
     },
     "metadata": {},
     "output_type": "display_data"
    }
   ],
   "source": [
    "sns.regplot(x=df_positivos['degree'], y=df_positivos['reputacao']/10) # % dos vizinhos conectados entre si \n"
   ]
  },
  {
   "cell_type": "code",
   "execution_count": 31,
   "id": "13f7fd91",
   "metadata": {},
   "outputs": [
    {
     "data": {
      "text/html": [
       "<table class=\"simpletable\">\n",
       "<caption>OLS Regression Results</caption>\n",
       "<tr>\n",
       "  <th>Dep. Variable:</th>        <td>reputacao</td>    <th>  R-squared:         </th> <td>   0.011</td>\n",
       "</tr>\n",
       "<tr>\n",
       "  <th>Model:</th>                   <td>OLS</td>       <th>  Adj. R-squared:    </th> <td>   0.010</td>\n",
       "</tr>\n",
       "<tr>\n",
       "  <th>Method:</th>             <td>Least Squares</td>  <th>  F-statistic:       </th> <td>   6.470</td>\n",
       "</tr>\n",
       "<tr>\n",
       "  <th>Date:</th>             <td>Mon, 22 Nov 2021</td> <th>  Prob (F-statistic):</th>  <td>0.0112</td> \n",
       "</tr>\n",
       "<tr>\n",
       "  <th>Time:</th>                 <td>13:29:08</td>     <th>  Log-Likelihood:    </th> <td> -2659.2</td>\n",
       "</tr>\n",
       "<tr>\n",
       "  <th>No. Observations:</th>      <td>   570</td>      <th>  AIC:               </th> <td>   5322.</td>\n",
       "</tr>\n",
       "<tr>\n",
       "  <th>Df Residuals:</th>          <td>   568</td>      <th>  BIC:               </th> <td>   5331.</td>\n",
       "</tr>\n",
       "<tr>\n",
       "  <th>Df Model:</th>              <td>     1</td>      <th>                     </th>     <td> </td>   \n",
       "</tr>\n",
       "<tr>\n",
       "  <th>Covariance Type:</th>      <td>nonrobust</td>    <th>                     </th>     <td> </td>   \n",
       "</tr>\n",
       "</table>\n",
       "<table class=\"simpletable\">\n",
       "<tr>\n",
       "      <td></td>         <th>coef</th>     <th>std err</th>      <th>t</th>      <th>P>|t|</th>  <th>[0.025</th>    <th>0.975]</th>  \n",
       "</tr>\n",
       "<tr>\n",
       "  <th>Intercept</th> <td>   60.0141</td> <td>    1.855</td> <td>   32.348</td> <td> 0.000</td> <td>   56.370</td> <td>   63.658</td>\n",
       "</tr>\n",
       "<tr>\n",
       "  <th>degree</th>    <td>  151.1512</td> <td>   59.425</td> <td>    2.544</td> <td> 0.011</td> <td>   34.432</td> <td>  267.870</td>\n",
       "</tr>\n",
       "</table>\n",
       "<table class=\"simpletable\">\n",
       "<tr>\n",
       "  <th>Omnibus:</th>       <td>54.986</td> <th>  Durbin-Watson:     </th> <td>   1.895</td>\n",
       "</tr>\n",
       "<tr>\n",
       "  <th>Prob(Omnibus):</th> <td> 0.000</td> <th>  Jarque-Bera (JB):  </th> <td>  42.452</td>\n",
       "</tr>\n",
       "<tr>\n",
       "  <th>Skew:</th>          <td>-0.571</td> <th>  Prob(JB):          </th> <td>6.05e-10</td>\n",
       "</tr>\n",
       "<tr>\n",
       "  <th>Kurtosis:</th>      <td> 2.306</td> <th>  Cond. No.          </th> <td>    55.2</td>\n",
       "</tr>\n",
       "</table><br/><br/>Notes:<br/>[1] Standard Errors assume that the covariance matrix of the errors is correctly specified."
      ],
      "text/plain": [
       "<class 'statsmodels.iolib.summary.Summary'>\n",
       "\"\"\"\n",
       "                            OLS Regression Results                            \n",
       "==============================================================================\n",
       "Dep. Variable:              reputacao   R-squared:                       0.011\n",
       "Model:                            OLS   Adj. R-squared:                  0.010\n",
       "Method:                 Least Squares   F-statistic:                     6.470\n",
       "Date:                Mon, 22 Nov 2021   Prob (F-statistic):             0.0112\n",
       "Time:                        13:29:08   Log-Likelihood:                -2659.2\n",
       "No. Observations:                 570   AIC:                             5322.\n",
       "Df Residuals:                     568   BIC:                             5331.\n",
       "Df Model:                           1                                         \n",
       "Covariance Type:            nonrobust                                         \n",
       "==============================================================================\n",
       "                 coef    std err          t      P>|t|      [0.025      0.975]\n",
       "------------------------------------------------------------------------------\n",
       "Intercept     60.0141      1.855     32.348      0.000      56.370      63.658\n",
       "degree       151.1512     59.425      2.544      0.011      34.432     267.870\n",
       "==============================================================================\n",
       "Omnibus:                       54.986   Durbin-Watson:                   1.895\n",
       "Prob(Omnibus):                  0.000   Jarque-Bera (JB):               42.452\n",
       "Skew:                          -0.571   Prob(JB):                     6.05e-10\n",
       "Kurtosis:                       2.306   Cond. No.                         55.2\n",
       "==============================================================================\n",
       "\n",
       "Notes:\n",
       "[1] Standard Errors assume that the covariance matrix of the errors is correctly specified.\n",
       "\"\"\""
      ]
     },
     "execution_count": 31,
     "metadata": {},
     "output_type": "execute_result"
    }
   ],
   "source": [
    "model = smf.ols(data=df_positivos, formula='reputacao ~ degree')\n",
    "result = model.fit()\n",
    "result.summary()"
   ]
  },
  {
   "cell_type": "code",
   "execution_count": 32,
   "id": "8947dfcf",
   "metadata": {},
   "outputs": [
    {
     "data": {
      "text/html": [
       "<table class=\"simpletable\">\n",
       "<caption>OLS Regression Results</caption>\n",
       "<tr>\n",
       "  <th>Dep. Variable:</th>        <td>reputacao</td>    <th>  R-squared:         </th> <td>   0.029</td>\n",
       "</tr>\n",
       "<tr>\n",
       "  <th>Model:</th>                   <td>OLS</td>       <th>  Adj. R-squared:    </th> <td>   0.023</td>\n",
       "</tr>\n",
       "<tr>\n",
       "  <th>Method:</th>             <td>Least Squares</td>  <th>  F-statistic:       </th> <td>   5.538</td>\n",
       "</tr>\n",
       "<tr>\n",
       "  <th>Date:</th>             <td>Mon, 22 Nov 2021</td> <th>  Prob (F-statistic):</th> <td>0.000943</td>\n",
       "</tr>\n",
       "<tr>\n",
       "  <th>Time:</th>                 <td>13:29:09</td>     <th>  Log-Likelihood:    </th> <td> -2654.2</td>\n",
       "</tr>\n",
       "<tr>\n",
       "  <th>No. Observations:</th>      <td>   570</td>      <th>  AIC:               </th> <td>   5316.</td>\n",
       "</tr>\n",
       "<tr>\n",
       "  <th>Df Residuals:</th>          <td>   566</td>      <th>  BIC:               </th> <td>   5334.</td>\n",
       "</tr>\n",
       "<tr>\n",
       "  <th>Df Model:</th>              <td>     3</td>      <th>                     </th>     <td> </td>   \n",
       "</tr>\n",
       "<tr>\n",
       "  <th>Covariance Type:</th>      <td>nonrobust</td>    <th>                     </th>     <td> </td>   \n",
       "</tr>\n",
       "</table>\n",
       "<table class=\"simpletable\">\n",
       "<tr>\n",
       "           <td></td>              <th>coef</th>     <th>std err</th>      <th>t</th>      <th>P>|t|</th>  <th>[0.025</th>    <th>0.975]</th>  \n",
       "</tr>\n",
       "<tr>\n",
       "  <th>Intercept</th>           <td>   84.9040</td> <td>    8.547</td> <td>    9.934</td> <td> 0.000</td> <td>   68.116</td> <td>  101.692</td>\n",
       "</tr>\n",
       "<tr>\n",
       "  <th>np.log(betweenness)</th> <td>    3.0748</td> <td>    0.990</td> <td>    3.105</td> <td> 0.002</td> <td>    1.130</td> <td>    5.020</td>\n",
       "</tr>\n",
       "<tr>\n",
       "  <th>clustering</th>          <td>   17.1792</td> <td>    9.462</td> <td>    1.816</td> <td> 0.070</td> <td>   -1.405</td> <td>   35.764</td>\n",
       "</tr>\n",
       "<tr>\n",
       "  <th>degree</th>              <td>   86.6341</td> <td>   62.788</td> <td>    1.380</td> <td> 0.168</td> <td>  -36.692</td> <td>  209.960</td>\n",
       "</tr>\n",
       "</table>\n",
       "<table class=\"simpletable\">\n",
       "<tr>\n",
       "  <th>Omnibus:</th>       <td>53.906</td> <th>  Durbin-Watson:     </th> <td>   1.908</td>\n",
       "</tr>\n",
       "<tr>\n",
       "  <th>Prob(Omnibus):</th> <td> 0.000</td> <th>  Jarque-Bera (JB):  </th> <td>  38.666</td>\n",
       "</tr>\n",
       "<tr>\n",
       "  <th>Skew:</th>          <td>-0.529</td> <th>  Prob(JB):          </th> <td>4.02e-09</td>\n",
       "</tr>\n",
       "<tr>\n",
       "  <th>Kurtosis:</th>      <td> 2.288</td> <th>  Cond. No.          </th> <td>    662.</td>\n",
       "</tr>\n",
       "</table><br/><br/>Notes:<br/>[1] Standard Errors assume that the covariance matrix of the errors is correctly specified."
      ],
      "text/plain": [
       "<class 'statsmodels.iolib.summary.Summary'>\n",
       "\"\"\"\n",
       "                            OLS Regression Results                            \n",
       "==============================================================================\n",
       "Dep. Variable:              reputacao   R-squared:                       0.029\n",
       "Model:                            OLS   Adj. R-squared:                  0.023\n",
       "Method:                 Least Squares   F-statistic:                     5.538\n",
       "Date:                Mon, 22 Nov 2021   Prob (F-statistic):           0.000943\n",
       "Time:                        13:29:09   Log-Likelihood:                -2654.2\n",
       "No. Observations:                 570   AIC:                             5316.\n",
       "Df Residuals:                     566   BIC:                             5334.\n",
       "Df Model:                           3                                         \n",
       "Covariance Type:            nonrobust                                         \n",
       "=======================================================================================\n",
       "                          coef    std err          t      P>|t|      [0.025      0.975]\n",
       "---------------------------------------------------------------------------------------\n",
       "Intercept              84.9040      8.547      9.934      0.000      68.116     101.692\n",
       "np.log(betweenness)     3.0748      0.990      3.105      0.002       1.130       5.020\n",
       "clustering             17.1792      9.462      1.816      0.070      -1.405      35.764\n",
       "degree                 86.6341     62.788      1.380      0.168     -36.692     209.960\n",
       "==============================================================================\n",
       "Omnibus:                       53.906   Durbin-Watson:                   1.908\n",
       "Prob(Omnibus):                  0.000   Jarque-Bera (JB):               38.666\n",
       "Skew:                          -0.529   Prob(JB):                     4.02e-09\n",
       "Kurtosis:                       2.288   Cond. No.                         662.\n",
       "==============================================================================\n",
       "\n",
       "Notes:\n",
       "[1] Standard Errors assume that the covariance matrix of the errors is correctly specified.\n",
       "\"\"\""
      ]
     },
     "execution_count": 32,
     "metadata": {},
     "output_type": "execute_result"
    }
   ],
   "source": [
    "model = smf.ols(data=df_positivos, formula='reputacao ~ np.log(betweenness) + clustering + degree')\n",
    "result = model.fit()\n",
    "result.summary()"
   ]
  },
  {
   "cell_type": "code",
   "execution_count": null,
   "id": "904e13ea",
   "metadata": {},
   "outputs": [],
   "source": []
  }
 ],
 "metadata": {
  "kernelspec": {
   "display_name": "Python 3 (ipykernel)",
   "language": "python",
   "name": "python3"
  },
  "language_info": {
   "codemirror_mode": {
    "name": "ipython",
    "version": 3
   },
   "file_extension": ".py",
   "mimetype": "text/x-python",
   "name": "python",
   "nbconvert_exporter": "python",
   "pygments_lexer": "ipython3",
   "version": "3.7.11"
  }
 },
 "nbformat": 4,
 "nbformat_minor": 5
}
