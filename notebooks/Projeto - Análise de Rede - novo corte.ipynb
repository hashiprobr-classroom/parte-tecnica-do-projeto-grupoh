{
 "cells": [
  {
   "cell_type": "markdown",
   "id": "31a0a830",
   "metadata": {},
   "source": [
    "# Projeto de Redes Sociais\n",
    "\n",
    "Cicero Tiago Carneiro Valentim\n",
    "\n",
    "Lais Nascimento da Silva\n",
    "\n",
    "Thalia Loiola da Silva\n",
    "\n",
    "William Augusto Reis da Silva"
   ]
  },
  {
   "cell_type": "markdown",
   "id": "180e40ab",
   "metadata": {},
   "source": [
    "### Bibliotecas"
   ]
  },
  {
   "cell_type": "code",
   "execution_count": 1,
   "id": "78230410",
   "metadata": {},
   "outputs": [
    {
     "data": {
      "text/html": [
       "\n",
       "    <script src=\"/files/netpixi.min.js\"></script>\n"
      ],
      "text/plain": [
       "<IPython.core.display.HTML object>"
      ]
     },
     "metadata": {},
     "output_type": "display_data"
    }
   ],
   "source": [
    "from graph_tool import centrality, clustering, PropertyMap\n",
    "from graph_tool import Graph\n",
    "# from graph_tool.all import graph_draw\n",
    "from netpixi.data.gt import *\n",
    "from netpixi import render, peek\n",
    "import netpixi\n",
    "import pandas as pd\n",
    "import netpixi\n",
    "import numpy as np"
   ]
  },
  {
   "cell_type": "markdown",
   "id": "4bf95402",
   "metadata": {},
   "source": [
    "Às vezes é necessário instalar o openpyxl. Só descomentar:"
   ]
  },
  {
   "cell_type": "code",
   "execution_count": 6,
   "id": "7340f507",
   "metadata": {},
   "outputs": [
    {
     "name": "stdout",
     "output_type": "stream",
     "text": [
      "Collecting openpyxl\n",
      "  Downloading openpyxl-3.0.9-py2.py3-none-any.whl (242 kB)\n",
      "\u001b[K     |████████████████████████████████| 242 kB 4.0 MB/s eta 0:00:01\n",
      "\u001b[?25hCollecting et-xmlfile\n",
      "  Downloading et_xmlfile-1.1.0-py3-none-any.whl (4.7 kB)\n",
      "Installing collected packages: et-xmlfile, openpyxl\n",
      "Successfully installed et-xmlfile-1.1.0 openpyxl-3.0.9\n",
      "\u001b[33mWARNING: Running pip as the 'root' user can result in broken permissions and conflicting behaviour with the system package manager. It is recommended to use a virtual environment instead: https://pip.pypa.io/warnings/venv\u001b[0m\n",
      "\u001b[33mWARNING: You are using pip version 21.2.4; however, version 21.3.1 is available.\n",
      "You should consider upgrading via the '/usr/local/bin/python -m pip install --upgrade pip' command.\u001b[0m\n"
     ]
    }
   ],
   "source": [
    "# !pip install openpyxl"
   ]
  },
  {
   "cell_type": "markdown",
   "id": "d0406642",
   "metadata": {},
   "source": [
    "## Carregamento do grafo"
   ]
  },
  {
   "cell_type": "code",
   "execution_count": 2,
   "id": "aedf9ac8",
   "metadata": {
    "scrolled": false
   },
   "outputs": [],
   "source": [
    "grafo_titulo = load_gt('projeto-one-mode-dicotomizado.net.gz')"
   ]
  },
  {
   "cell_type": "code",
   "execution_count": 3,
   "id": "be58e83c",
   "metadata": {},
   "outputs": [],
   "source": [
    "from graph_tool import centrality, clustering\n",
    "\n",
    "# calculo clustering coefficient\n",
    "c = clustering.local_clustering(grafo_titulo)\n",
    "\n",
    "# calculo betweenness\n",
    "bc, _ = centrality.betweenness(grafo_titulo)\n",
    "\n",
    "grafo_titulo.vp['betweenness'] = bc\n",
    "grafo_titulo.vp['clustering'] = c"
   ]
  },
  {
   "cell_type": "code",
   "execution_count": 4,
   "id": "ac28c137",
   "metadata": {},
   "outputs": [],
   "source": [
    "df = pd.DataFrame({k: list(v) for k, v in grafo_titulo.vp.items()})"
   ]
  },
  {
   "cell_type": "code",
   "execution_count": 7,
   "id": "fafe9318",
   "metadata": {
    "scrolled": false
   },
   "outputs": [],
   "source": [
    "filmes = pd.read_excel('netflix.xlsx')"
   ]
  },
  {
   "cell_type": "code",
   "execution_count": 8,
   "id": "fe71fb86",
   "metadata": {
    "scrolled": false
   },
   "outputs": [
    {
     "data": {
      "text/html": [
       "<div>\n",
       "<style scoped>\n",
       "    .dataframe tbody tr th:only-of-type {\n",
       "        vertical-align: middle;\n",
       "    }\n",
       "\n",
       "    .dataframe tbody tr th {\n",
       "        vertical-align: top;\n",
       "    }\n",
       "\n",
       "    .dataframe thead th {\n",
       "        text-align: right;\n",
       "    }\n",
       "</style>\n",
       "<table border=\"1\" class=\"dataframe\">\n",
       "  <thead>\n",
       "    <tr style=\"text-align: right;\">\n",
       "      <th></th>\n",
       "      <th>id</th>\n",
       "      <th>nome</th>\n",
       "      <th>_x</th>\n",
       "      <th>_y</th>\n",
       "      <th>betweenness</th>\n",
       "      <th>clustering</th>\n",
       "    </tr>\n",
       "  </thead>\n",
       "  <tbody>\n",
       "    <tr>\n",
       "      <th>4570</th>\n",
       "      <td>4570</td>\n",
       "      <td>The Accidental Detective</td>\n",
       "      <td>1462.444475</td>\n",
       "      <td>-296.184349</td>\n",
       "      <td>0.000000</td>\n",
       "      <td>0.000000</td>\n",
       "    </tr>\n",
       "    <tr>\n",
       "      <th>5880</th>\n",
       "      <td>5880</td>\n",
       "      <td>Suite Francaise</td>\n",
       "      <td>-49.057870</td>\n",
       "      <td>82.788402</td>\n",
       "      <td>0.000000</td>\n",
       "      <td>1.000000</td>\n",
       "    </tr>\n",
       "    <tr>\n",
       "      <th>5879</th>\n",
       "      <td>5879</td>\n",
       "      <td>Legend</td>\n",
       "      <td>20.440279</td>\n",
       "      <td>180.686767</td>\n",
       "      <td>0.000000</td>\n",
       "      <td>1.000000</td>\n",
       "    </tr>\n",
       "    <tr>\n",
       "      <th>5878</th>\n",
       "      <td>5878</td>\n",
       "      <td>David Beckham: Into the Unknown</td>\n",
       "      <td>1146.086944</td>\n",
       "      <td>396.684496</td>\n",
       "      <td>0.000000</td>\n",
       "      <td>0.000000</td>\n",
       "    </tr>\n",
       "    <tr>\n",
       "      <th>5877</th>\n",
       "      <td>5877</td>\n",
       "      <td>Daddys Home</td>\n",
       "      <td>848.418539</td>\n",
       "      <td>-351.984671</td>\n",
       "      <td>0.000000</td>\n",
       "      <td>0.000000</td>\n",
       "    </tr>\n",
       "    <tr>\n",
       "      <th>...</th>\n",
       "      <td>...</td>\n",
       "      <td>...</td>\n",
       "      <td>...</td>\n",
       "      <td>...</td>\n",
       "      <td>...</td>\n",
       "      <td>...</td>\n",
       "    </tr>\n",
       "    <tr>\n",
       "      <th>3344</th>\n",
       "      <td>3344</td>\n",
       "      <td>Doraemon the Movie: Nobita in the Secret Gadge...</td>\n",
       "      <td>71.634063</td>\n",
       "      <td>70.004605</td>\n",
       "      <td>0.002574</td>\n",
       "      <td>0.201068</td>\n",
       "    </tr>\n",
       "    <tr>\n",
       "      <th>5556</th>\n",
       "      <td>5556</td>\n",
       "      <td>Lupin the 3rd TV Special: Sweet Lost Night</td>\n",
       "      <td>53.699901</td>\n",
       "      <td>105.554355</td>\n",
       "      <td>0.002686</td>\n",
       "      <td>0.200062</td>\n",
       "    </tr>\n",
       "    <tr>\n",
       "      <th>8262</th>\n",
       "      <td>8262</td>\n",
       "      <td>Black Butler</td>\n",
       "      <td>55.221557</td>\n",
       "      <td>99.514835</td>\n",
       "      <td>0.003994</td>\n",
       "      <td>0.173171</td>\n",
       "    </tr>\n",
       "    <tr>\n",
       "      <th>5815</th>\n",
       "      <td>5815</td>\n",
       "      <td>Steven Universe</td>\n",
       "      <td>62.987539</td>\n",
       "      <td>66.530887</td>\n",
       "      <td>0.004380</td>\n",
       "      <td>0.159512</td>\n",
       "    </tr>\n",
       "    <tr>\n",
       "      <th>5539</th>\n",
       "      <td>5539</td>\n",
       "      <td>The Vision of Escaflowne</td>\n",
       "      <td>47.055237</td>\n",
       "      <td>67.994366</td>\n",
       "      <td>0.005690</td>\n",
       "      <td>0.168628</td>\n",
       "    </tr>\n",
       "  </tbody>\n",
       "</table>\n",
       "<p>9141 rows × 6 columns</p>\n",
       "</div>"
      ],
      "text/plain": [
       "        id                                               nome           _x  \\\n",
       "4570  4570                           The Accidental Detective  1462.444475   \n",
       "5880  5880                                    Suite Francaise   -49.057870   \n",
       "5879  5879                                             Legend    20.440279   \n",
       "5878  5878                    David Beckham: Into the Unknown  1146.086944   \n",
       "5877  5877                                        Daddys Home   848.418539   \n",
       "...    ...                                                ...          ...   \n",
       "3344  3344  Doraemon the Movie: Nobita in the Secret Gadge...    71.634063   \n",
       "5556  5556         Lupin the 3rd TV Special: Sweet Lost Night    53.699901   \n",
       "8262  8262                                       Black Butler    55.221557   \n",
       "5815  5815                                    Steven Universe    62.987539   \n",
       "5539  5539                           The Vision of Escaflowne    47.055237   \n",
       "\n",
       "              _y  betweenness  clustering  \n",
       "4570 -296.184349     0.000000    0.000000  \n",
       "5880   82.788402     0.000000    1.000000  \n",
       "5879  180.686767     0.000000    1.000000  \n",
       "5878  396.684496     0.000000    0.000000  \n",
       "5877 -351.984671     0.000000    0.000000  \n",
       "...          ...          ...         ...  \n",
       "3344   70.004605     0.002574    0.201068  \n",
       "5556  105.554355     0.002686    0.200062  \n",
       "8262   99.514835     0.003994    0.173171  \n",
       "5815   66.530887     0.004380    0.159512  \n",
       "5539   67.994366     0.005690    0.168628  \n",
       "\n",
       "[9141 rows x 6 columns]"
      ]
     },
     "execution_count": 8,
     "metadata": {},
     "output_type": "execute_result"
    }
   ],
   "source": [
    "df.sort_values(by='betweenness')"
   ]
  },
  {
   "cell_type": "code",
   "execution_count": 9,
   "id": "aa5c1004",
   "metadata": {},
   "outputs": [
    {
     "data": {
      "text/plain": [
       "Index(['Title', 'Genre', 'Tags', 'Languages', 'Series or Movie',\n",
       "       'Hidden Gem Score', 'Country Availability', 'Runtime', 'Director',\n",
       "       'Writer', 'Actors', 'View Rating', 'IMDb Score',\n",
       "       'Rotten Tomatoes Score', 'Metacritic Score', 'Awards Received',\n",
       "       'Awards Nominated For', 'Boxoffice', 'Release Date',\n",
       "       'Netflix Release Date', 'Production House', 'Netflix Link', 'IMDb Link',\n",
       "       'Summary', 'IMDb Votes', 'Image', 'Poster', 'TMDb Trailer',\n",
       "       'Trailer Site'],\n",
       "      dtype='object')"
      ]
     },
     "execution_count": 9,
     "metadata": {},
     "output_type": "execute_result"
    }
   ],
   "source": [
    "filmes.columns"
   ]
  },
  {
   "cell_type": "code",
   "execution_count": 10,
   "id": "ff1b4ee1",
   "metadata": {},
   "outputs": [],
   "source": [
    "filmes_score = filmes[['IMDb Score', 'Title']].rename(columns={\"Title\":\"nome\"})"
   ]
  },
  {
   "cell_type": "code",
   "execution_count": 11,
   "id": "fc27ab1f",
   "metadata": {},
   "outputs": [],
   "source": [
    "filmes_score.nome = filmes_score.nome.astype(str, copy=False)\n",
    "df.nome = df.nome.astype(str, copy=False)\n",
    "df.id = df.id.astype(int, copy=False)"
   ]
  },
  {
   "cell_type": "markdown",
   "id": "164a5c08",
   "metadata": {},
   "source": [
    "Remoção de filmes duplicados"
   ]
  },
  {
   "cell_type": "code",
   "execution_count": 12,
   "id": "605a16d1",
   "metadata": {},
   "outputs": [],
   "source": [
    "filmes_score = filmes_score.drop_duplicates(subset=['nome'], keep=False)"
   ]
  },
  {
   "cell_type": "markdown",
   "id": "03954c06",
   "metadata": {},
   "source": [
    "Adição da coluna `IMDb Score` ao datafram `df`"
   ]
  },
  {
   "cell_type": "code",
   "execution_count": 13,
   "id": "b658f462",
   "metadata": {},
   "outputs": [
    {
     "data": {
      "text/html": [
       "<div>\n",
       "<style scoped>\n",
       "    .dataframe tbody tr th:only-of-type {\n",
       "        vertical-align: middle;\n",
       "    }\n",
       "\n",
       "    .dataframe tbody tr th {\n",
       "        vertical-align: top;\n",
       "    }\n",
       "\n",
       "    .dataframe thead th {\n",
       "        text-align: right;\n",
       "    }\n",
       "</style>\n",
       "<table border=\"1\" class=\"dataframe\">\n",
       "  <thead>\n",
       "    <tr style=\"text-align: right;\">\n",
       "      <th></th>\n",
       "      <th>id</th>\n",
       "      <th>nome</th>\n",
       "      <th>_x</th>\n",
       "      <th>_y</th>\n",
       "      <th>betweenness</th>\n",
       "      <th>clustering</th>\n",
       "    </tr>\n",
       "  </thead>\n",
       "  <tbody>\n",
       "    <tr>\n",
       "      <th>0</th>\n",
       "      <td>0</td>\n",
       "      <td>Lets Fight Ghost</td>\n",
       "      <td>-1.436253</td>\n",
       "      <td>77.806371</td>\n",
       "      <td>0.000003</td>\n",
       "      <td>0.794466</td>\n",
       "    </tr>\n",
       "    <tr>\n",
       "      <th>1</th>\n",
       "      <td>1</td>\n",
       "      <td>HOW TO BUILD A GIRL</td>\n",
       "      <td>-229.729180</td>\n",
       "      <td>1039.631642</td>\n",
       "      <td>0.000000</td>\n",
       "      <td>0.000000</td>\n",
       "    </tr>\n",
       "    <tr>\n",
       "      <th>2</th>\n",
       "      <td>2</td>\n",
       "      <td>The Con-Heartist</td>\n",
       "      <td>854.216640</td>\n",
       "      <td>357.749654</td>\n",
       "      <td>0.000000</td>\n",
       "      <td>0.000000</td>\n",
       "    </tr>\n",
       "    <tr>\n",
       "      <th>3</th>\n",
       "      <td>3</td>\n",
       "      <td>Gleboka woda</td>\n",
       "      <td>-62.084147</td>\n",
       "      <td>-830.782865</td>\n",
       "      <td>0.000000</td>\n",
       "      <td>0.000000</td>\n",
       "    </tr>\n",
       "    <tr>\n",
       "      <th>4</th>\n",
       "      <td>4</td>\n",
       "      <td>Only a Mother</td>\n",
       "      <td>698.456925</td>\n",
       "      <td>1632.287651</td>\n",
       "      <td>0.000000</td>\n",
       "      <td>0.000000</td>\n",
       "    </tr>\n",
       "    <tr>\n",
       "      <th>...</th>\n",
       "      <td>...</td>\n",
       "      <td>...</td>\n",
       "      <td>...</td>\n",
       "      <td>...</td>\n",
       "      <td>...</td>\n",
       "      <td>...</td>\n",
       "    </tr>\n",
       "    <tr>\n",
       "      <th>9136</th>\n",
       "      <td>9136</td>\n",
       "      <td>13 Going on 30</td>\n",
       "      <td>837.615451</td>\n",
       "      <td>675.264901</td>\n",
       "      <td>0.000000</td>\n",
       "      <td>0.000000</td>\n",
       "    </tr>\n",
       "    <tr>\n",
       "      <th>9137</th>\n",
       "      <td>9137</td>\n",
       "      <td>LIFE 2.0</td>\n",
       "      <td>1084.806275</td>\n",
       "      <td>-34.898042</td>\n",
       "      <td>0.000000</td>\n",
       "      <td>0.000000</td>\n",
       "    </tr>\n",
       "    <tr>\n",
       "      <th>9138</th>\n",
       "      <td>9138</td>\n",
       "      <td>Brand New Day</td>\n",
       "      <td>405.029912</td>\n",
       "      <td>-1525.691346</td>\n",
       "      <td>0.000000</td>\n",
       "      <td>0.000000</td>\n",
       "    </tr>\n",
       "    <tr>\n",
       "      <th>9139</th>\n",
       "      <td>9139</td>\n",
       "      <td>Daniel Arends: Blessuretijd</td>\n",
       "      <td>1125.114434</td>\n",
       "      <td>89.985930</td>\n",
       "      <td>0.000000</td>\n",
       "      <td>0.000000</td>\n",
       "    </tr>\n",
       "    <tr>\n",
       "      <th>9140</th>\n",
       "      <td>9140</td>\n",
       "      <td>DreamWorks Happy Holidays from Madagascar</td>\n",
       "      <td>1240.006055</td>\n",
       "      <td>443.528903</td>\n",
       "      <td>0.000000</td>\n",
       "      <td>0.000000</td>\n",
       "    </tr>\n",
       "  </tbody>\n",
       "</table>\n",
       "<p>9141 rows × 6 columns</p>\n",
       "</div>"
      ],
      "text/plain": [
       "        id                                       nome           _x  \\\n",
       "0        0                           Lets Fight Ghost    -1.436253   \n",
       "1        1                        HOW TO BUILD A GIRL  -229.729180   \n",
       "2        2                           The Con-Heartist   854.216640   \n",
       "3        3                               Gleboka woda   -62.084147   \n",
       "4        4                              Only a Mother   698.456925   \n",
       "...    ...                                        ...          ...   \n",
       "9136  9136                             13 Going on 30   837.615451   \n",
       "9137  9137                                   LIFE 2.0  1084.806275   \n",
       "9138  9138                              Brand New Day   405.029912   \n",
       "9139  9139                Daniel Arends: Blessuretijd  1125.114434   \n",
       "9140  9140  DreamWorks Happy Holidays from Madagascar  1240.006055   \n",
       "\n",
       "               _y  betweenness  clustering  \n",
       "0       77.806371     0.000003    0.794466  \n",
       "1     1039.631642     0.000000    0.000000  \n",
       "2      357.749654     0.000000    0.000000  \n",
       "3     -830.782865     0.000000    0.000000  \n",
       "4     1632.287651     0.000000    0.000000  \n",
       "...           ...          ...         ...  \n",
       "9136   675.264901     0.000000    0.000000  \n",
       "9137   -34.898042     0.000000    0.000000  \n",
       "9138 -1525.691346     0.000000    0.000000  \n",
       "9139    89.985930     0.000000    0.000000  \n",
       "9140   443.528903     0.000000    0.000000  \n",
       "\n",
       "[9141 rows x 6 columns]"
      ]
     },
     "execution_count": 13,
     "metadata": {},
     "output_type": "execute_result"
    }
   ],
   "source": [
    "df"
   ]
  },
  {
   "cell_type": "code",
   "execution_count": 14,
   "id": "93707f54",
   "metadata": {
    "scrolled": false
   },
   "outputs": [],
   "source": [
    "df = df.set_index('nome').join(filmes_score.set_index('nome'), how='left').reset_index()"
   ]
  },
  {
   "cell_type": "code",
   "execution_count": 15,
   "id": "7e2931a6",
   "metadata": {},
   "outputs": [
    {
     "data": {
      "text/plain": [
       "count                 9141\n",
       "unique                9141\n",
       "top       Lets Fight Ghost\n",
       "freq                     1\n",
       "Name: nome, dtype: object"
      ]
     },
     "execution_count": 15,
     "metadata": {},
     "output_type": "execute_result"
    }
   ],
   "source": [
    "df.nome.describe()"
   ]
  },
  {
   "cell_type": "code",
   "execution_count": 16,
   "id": "6c7c1f27",
   "metadata": {},
   "outputs": [
    {
     "data": {
      "text/html": [
       "<div>\n",
       "<style scoped>\n",
       "    .dataframe tbody tr th:only-of-type {\n",
       "        vertical-align: middle;\n",
       "    }\n",
       "\n",
       "    .dataframe tbody tr th {\n",
       "        vertical-align: top;\n",
       "    }\n",
       "\n",
       "    .dataframe thead th {\n",
       "        text-align: right;\n",
       "    }\n",
       "</style>\n",
       "<table border=\"1\" class=\"dataframe\">\n",
       "  <thead>\n",
       "    <tr style=\"text-align: right;\">\n",
       "      <th></th>\n",
       "      <th>nome</th>\n",
       "      <th>id</th>\n",
       "      <th>_x</th>\n",
       "      <th>_y</th>\n",
       "      <th>betweenness</th>\n",
       "      <th>clustering</th>\n",
       "      <th>IMDb Score</th>\n",
       "    </tr>\n",
       "  </thead>\n",
       "  <tbody>\n",
       "    <tr>\n",
       "      <th>0</th>\n",
       "      <td>Lets Fight Ghost</td>\n",
       "      <td>0</td>\n",
       "      <td>-1.436253</td>\n",
       "      <td>77.806371</td>\n",
       "      <td>0.000003</td>\n",
       "      <td>0.794466</td>\n",
       "      <td>7.9</td>\n",
       "    </tr>\n",
       "    <tr>\n",
       "      <th>1</th>\n",
       "      <td>HOW TO BUILD A GIRL</td>\n",
       "      <td>1</td>\n",
       "      <td>-229.729180</td>\n",
       "      <td>1039.631642</td>\n",
       "      <td>0.000000</td>\n",
       "      <td>0.000000</td>\n",
       "      <td>5.8</td>\n",
       "    </tr>\n",
       "    <tr>\n",
       "      <th>2</th>\n",
       "      <td>The Con-Heartist</td>\n",
       "      <td>2</td>\n",
       "      <td>854.216640</td>\n",
       "      <td>357.749654</td>\n",
       "      <td>0.000000</td>\n",
       "      <td>0.000000</td>\n",
       "      <td>7.4</td>\n",
       "    </tr>\n",
       "    <tr>\n",
       "      <th>3</th>\n",
       "      <td>Gleboka woda</td>\n",
       "      <td>3</td>\n",
       "      <td>-62.084147</td>\n",
       "      <td>-830.782865</td>\n",
       "      <td>0.000000</td>\n",
       "      <td>0.000000</td>\n",
       "      <td>7.5</td>\n",
       "    </tr>\n",
       "    <tr>\n",
       "      <th>4</th>\n",
       "      <td>Only a Mother</td>\n",
       "      <td>4</td>\n",
       "      <td>698.456925</td>\n",
       "      <td>1632.287651</td>\n",
       "      <td>0.000000</td>\n",
       "      <td>0.000000</td>\n",
       "      <td>6.7</td>\n",
       "    </tr>\n",
       "  </tbody>\n",
       "</table>\n",
       "</div>"
      ],
      "text/plain": [
       "                  nome  id          _x           _y  betweenness  clustering  \\\n",
       "0     Lets Fight Ghost   0   -1.436253    77.806371     0.000003    0.794466   \n",
       "1  HOW TO BUILD A GIRL   1 -229.729180  1039.631642     0.000000    0.000000   \n",
       "2     The Con-Heartist   2  854.216640   357.749654     0.000000    0.000000   \n",
       "3         Gleboka woda   3  -62.084147  -830.782865     0.000000    0.000000   \n",
       "4        Only a Mother   4  698.456925  1632.287651     0.000000    0.000000   \n",
       "\n",
       "   IMDb Score  \n",
       "0         7.9  \n",
       "1         5.8  \n",
       "2         7.4  \n",
       "3         7.5  \n",
       "4         6.7  "
      ]
     },
     "execution_count": 16,
     "metadata": {},
     "output_type": "execute_result"
    }
   ],
   "source": [
    "df.head()"
   ]
  },
  {
   "cell_type": "code",
   "execution_count": 17,
   "id": "56df0ac5",
   "metadata": {},
   "outputs": [],
   "source": [
    "df = df.rename(columns={\"IMDb Score\": 'desempenho'})"
   ]
  },
  {
   "cell_type": "code",
   "execution_count": 18,
   "id": "421ab022",
   "metadata": {},
   "outputs": [
    {
     "data": {
      "text/html": [
       "<div>\n",
       "<style scoped>\n",
       "    .dataframe tbody tr th:only-of-type {\n",
       "        vertical-align: middle;\n",
       "    }\n",
       "\n",
       "    .dataframe tbody tr th {\n",
       "        vertical-align: top;\n",
       "    }\n",
       "\n",
       "    .dataframe thead th {\n",
       "        text-align: right;\n",
       "    }\n",
       "</style>\n",
       "<table border=\"1\" class=\"dataframe\">\n",
       "  <thead>\n",
       "    <tr style=\"text-align: right;\">\n",
       "      <th></th>\n",
       "      <th>nome</th>\n",
       "      <th>id</th>\n",
       "      <th>_x</th>\n",
       "      <th>_y</th>\n",
       "      <th>betweenness</th>\n",
       "      <th>clustering</th>\n",
       "      <th>desempenho</th>\n",
       "    </tr>\n",
       "  </thead>\n",
       "  <tbody>\n",
       "    <tr>\n",
       "      <th>0</th>\n",
       "      <td>Lets Fight Ghost</td>\n",
       "      <td>0</td>\n",
       "      <td>-1.436253</td>\n",
       "      <td>77.806371</td>\n",
       "      <td>0.000003</td>\n",
       "      <td>0.794466</td>\n",
       "      <td>7.9</td>\n",
       "    </tr>\n",
       "    <tr>\n",
       "      <th>1</th>\n",
       "      <td>HOW TO BUILD A GIRL</td>\n",
       "      <td>1</td>\n",
       "      <td>-229.729180</td>\n",
       "      <td>1039.631642</td>\n",
       "      <td>0.000000</td>\n",
       "      <td>0.000000</td>\n",
       "      <td>5.8</td>\n",
       "    </tr>\n",
       "    <tr>\n",
       "      <th>2</th>\n",
       "      <td>The Con-Heartist</td>\n",
       "      <td>2</td>\n",
       "      <td>854.216640</td>\n",
       "      <td>357.749654</td>\n",
       "      <td>0.000000</td>\n",
       "      <td>0.000000</td>\n",
       "      <td>7.4</td>\n",
       "    </tr>\n",
       "    <tr>\n",
       "      <th>3</th>\n",
       "      <td>Gleboka woda</td>\n",
       "      <td>3</td>\n",
       "      <td>-62.084147</td>\n",
       "      <td>-830.782865</td>\n",
       "      <td>0.000000</td>\n",
       "      <td>0.000000</td>\n",
       "      <td>7.5</td>\n",
       "    </tr>\n",
       "    <tr>\n",
       "      <th>4</th>\n",
       "      <td>Only a Mother</td>\n",
       "      <td>4</td>\n",
       "      <td>698.456925</td>\n",
       "      <td>1632.287651</td>\n",
       "      <td>0.000000</td>\n",
       "      <td>0.000000</td>\n",
       "      <td>6.7</td>\n",
       "    </tr>\n",
       "  </tbody>\n",
       "</table>\n",
       "</div>"
      ],
      "text/plain": [
       "                  nome  id          _x           _y  betweenness  clustering  \\\n",
       "0     Lets Fight Ghost   0   -1.436253    77.806371     0.000003    0.794466   \n",
       "1  HOW TO BUILD A GIRL   1 -229.729180  1039.631642     0.000000    0.000000   \n",
       "2     The Con-Heartist   2  854.216640   357.749654     0.000000    0.000000   \n",
       "3         Gleboka woda   3  -62.084147  -830.782865     0.000000    0.000000   \n",
       "4        Only a Mother   4  698.456925  1632.287651     0.000000    0.000000   \n",
       "\n",
       "   desempenho  \n",
       "0         7.9  \n",
       "1         5.8  \n",
       "2         7.4  \n",
       "3         7.5  \n",
       "4         6.7  "
      ]
     },
     "execution_count": 18,
     "metadata": {},
     "output_type": "execute_result"
    }
   ],
   "source": [
    "df.head()"
   ]
  },
  {
   "cell_type": "code",
   "execution_count": 19,
   "id": "2e1fbd71",
   "metadata": {},
   "outputs": [],
   "source": [
    "import seaborn as sns\n",
    "sns.set()"
   ]
  },
  {
   "cell_type": "code",
   "execution_count": 20,
   "id": "b1fe2f82",
   "metadata": {},
   "outputs": [],
   "source": [
    "import statsmodels.formula.api as smf"
   ]
  },
  {
   "cell_type": "markdown",
   "id": "9469ed56",
   "metadata": {},
   "source": [
    "### Agrupamento"
   ]
  },
  {
   "cell_type": "code",
   "execution_count": 24,
   "id": "d836cd37",
   "metadata": {},
   "outputs": [
    {
     "data": {
      "text/html": [
       "<div>\n",
       "<style scoped>\n",
       "    .dataframe tbody tr th:only-of-type {\n",
       "        vertical-align: middle;\n",
       "    }\n",
       "\n",
       "    .dataframe tbody tr th {\n",
       "        vertical-align: top;\n",
       "    }\n",
       "\n",
       "    .dataframe thead th {\n",
       "        text-align: right;\n",
       "    }\n",
       "</style>\n",
       "<table border=\"1\" class=\"dataframe\">\n",
       "  <thead>\n",
       "    <tr style=\"text-align: right;\">\n",
       "      <th></th>\n",
       "      <th>nome</th>\n",
       "      <th>id</th>\n",
       "      <th>_x</th>\n",
       "      <th>_y</th>\n",
       "      <th>betweenness</th>\n",
       "      <th>clustering</th>\n",
       "      <th>desempenho</th>\n",
       "    </tr>\n",
       "  </thead>\n",
       "  <tbody>\n",
       "    <tr>\n",
       "      <th>0</th>\n",
       "      <td>Lets Fight Ghost</td>\n",
       "      <td>0</td>\n",
       "      <td>-1.436253</td>\n",
       "      <td>77.806371</td>\n",
       "      <td>0.000003</td>\n",
       "      <td>0.794466</td>\n",
       "      <td>7.9</td>\n",
       "    </tr>\n",
       "    <tr>\n",
       "      <th>6</th>\n",
       "      <td>The Invisible</td>\n",
       "      <td>6</td>\n",
       "      <td>55.645344</td>\n",
       "      <td>122.529907</td>\n",
       "      <td>0.000031</td>\n",
       "      <td>0.653269</td>\n",
       "      <td>6.2</td>\n",
       "    </tr>\n",
       "    <tr>\n",
       "      <th>62</th>\n",
       "      <td>Ride Your Wave</td>\n",
       "      <td>62</td>\n",
       "      <td>44.678612</td>\n",
       "      <td>36.371525</td>\n",
       "      <td>0.000211</td>\n",
       "      <td>0.465652</td>\n",
       "      <td>6.8</td>\n",
       "    </tr>\n",
       "    <tr>\n",
       "      <th>68</th>\n",
       "      <td>Princess Principal</td>\n",
       "      <td>68</td>\n",
       "      <td>65.936711</td>\n",
       "      <td>69.644055</td>\n",
       "      <td>0.000005</td>\n",
       "      <td>0.635031</td>\n",
       "      <td>7.3</td>\n",
       "    </tr>\n",
       "    <tr>\n",
       "      <th>70</th>\n",
       "      <td>A Call to Spy</td>\n",
       "      <td>70</td>\n",
       "      <td>4.171069</td>\n",
       "      <td>165.698009</td>\n",
       "      <td>0.000025</td>\n",
       "      <td>0.662618</td>\n",
       "      <td>6.3</td>\n",
       "    </tr>\n",
       "    <tr>\n",
       "      <th>...</th>\n",
       "      <td>...</td>\n",
       "      <td>...</td>\n",
       "      <td>...</td>\n",
       "      <td>...</td>\n",
       "      <td>...</td>\n",
       "      <td>...</td>\n",
       "      <td>...</td>\n",
       "    </tr>\n",
       "    <tr>\n",
       "      <th>9109</th>\n",
       "      <td>Spy Kids 2: The Island of Lost Dreams</td>\n",
       "      <td>9109</td>\n",
       "      <td>83.692317</td>\n",
       "      <td>50.522193</td>\n",
       "      <td>0.000001</td>\n",
       "      <td>0.862922</td>\n",
       "      <td>5.2</td>\n",
       "    </tr>\n",
       "    <tr>\n",
       "      <th>9114</th>\n",
       "      <td>Teenage Mutant Ninja Turtles II: The Secret of...</td>\n",
       "      <td>9114</td>\n",
       "      <td>86.657705</td>\n",
       "      <td>54.618558</td>\n",
       "      <td>0.000001</td>\n",
       "      <td>0.862922</td>\n",
       "      <td>6.1</td>\n",
       "    </tr>\n",
       "    <tr>\n",
       "      <th>9116</th>\n",
       "      <td>Hunter X Hunter (2011)</td>\n",
       "      <td>9116</td>\n",
       "      <td>58.049482</td>\n",
       "      <td>48.367685</td>\n",
       "      <td>0.000008</td>\n",
       "      <td>0.694411</td>\n",
       "      <td>8.9</td>\n",
       "    </tr>\n",
       "    <tr>\n",
       "      <th>9125</th>\n",
       "      <td>Inazuma Eleven</td>\n",
       "      <td>9125</td>\n",
       "      <td>68.987392</td>\n",
       "      <td>67.229944</td>\n",
       "      <td>0.000064</td>\n",
       "      <td>0.742204</td>\n",
       "      <td>8.0</td>\n",
       "    </tr>\n",
       "    <tr>\n",
       "      <th>9131</th>\n",
       "      <td>The Twilight Saga: Breaking Dawn: Part 1</td>\n",
       "      <td>9131</td>\n",
       "      <td>26.521348</td>\n",
       "      <td>66.888681</td>\n",
       "      <td>0.000004</td>\n",
       "      <td>0.654819</td>\n",
       "      <td>4.9</td>\n",
       "    </tr>\n",
       "  </tbody>\n",
       "</table>\n",
       "<p>1050 rows × 7 columns</p>\n",
       "</div>"
      ],
      "text/plain": [
       "                                                   nome    id         _x  \\\n",
       "0                                      Lets Fight Ghost     0  -1.436253   \n",
       "6                                         The Invisible     6  55.645344   \n",
       "62                                       Ride Your Wave    62  44.678612   \n",
       "68                                   Princess Principal    68  65.936711   \n",
       "70                                        A Call to Spy    70   4.171069   \n",
       "...                                                 ...   ...        ...   \n",
       "9109              Spy Kids 2: The Island of Lost Dreams  9109  83.692317   \n",
       "9114  Teenage Mutant Ninja Turtles II: The Secret of...  9114  86.657705   \n",
       "9116                             Hunter X Hunter (2011)  9116  58.049482   \n",
       "9125                                     Inazuma Eleven  9125  68.987392   \n",
       "9131           The Twilight Saga: Breaking Dawn: Part 1  9131  26.521348   \n",
       "\n",
       "              _y  betweenness  clustering  desempenho  \n",
       "0      77.806371     0.000003    0.794466         7.9  \n",
       "6     122.529907     0.000031    0.653269         6.2  \n",
       "62     36.371525     0.000211    0.465652         6.8  \n",
       "68     69.644055     0.000005    0.635031         7.3  \n",
       "70    165.698009     0.000025    0.662618         6.3  \n",
       "...          ...          ...         ...         ...  \n",
       "9109   50.522193     0.000001    0.862922         5.2  \n",
       "9114   54.618558     0.000001    0.862922         6.1  \n",
       "9116   48.367685     0.000008    0.694411         8.9  \n",
       "9125   67.229944     0.000064    0.742204         8.0  \n",
       "9131   66.888681     0.000004    0.654819         4.9  \n",
       "\n",
       "[1050 rows x 7 columns]"
      ]
     },
     "execution_count": 24,
     "metadata": {},
     "output_type": "execute_result"
    }
   ],
   "source": [
    "# pegamos apenas os betweenness com valores > 0 \n",
    "a = df[df['betweenness'] > 0]\n",
    "a"
   ]
  },
  {
   "cell_type": "code",
   "execution_count": 29,
   "id": "f0143823",
   "metadata": {},
   "outputs": [
    {
     "data": {
      "text/plain": [
       "<AxesSubplot:xlabel='betweenness', ylabel='desempenho'>"
      ]
     },
     "execution_count": 29,
     "metadata": {},
     "output_type": "execute_result"
    },
    {
     "data": {
      "image/png": "[encoded data removed]",
      "text/plain": [
       "<Figure size 432x288 with 1 Axes>"
      ]
     },
     "metadata": {},
     "output_type": "display_data"
    }
   ],
   "source": [
    "sns.regplot(x=np.log(a['betweenness']), y=a['desempenho'])"
   ]
  },
  {
   "cell_type": "code",
   "execution_count": 28,
   "id": "ca9732f8",
   "metadata": {},
   "outputs": [
    {
     "data": {
      "text/plain": [
       "<AxesSubplot:xlabel='betweenness', ylabel='desempenho'>"
      ]
     },
     "execution_count": 28,
     "metadata": {},
     "output_type": "execute_result"
    },
    {
     "data": {
      "image/png": "[encoded data removed]",
      "text/plain": [
       "<Figure size 432x288 with 1 Axes>"
      ]
     },
     "metadata": {},
     "output_type": "display_data"
    }
   ],
   "source": [
    "sns.regplot(x=df['betweenness'], y=np.log(df['desempenho']))"
   ]
  },
  {
   "cell_type": "code",
   "execution_count": 30,
   "id": "5a1a81ee",
   "metadata": {},
   "outputs": [
    {
     "data": {
      "text/html": [
       "<table class=\"simpletable\">\n",
       "<caption>OLS Regression Results</caption>\n",
       "<tr>\n",
       "  <th>Dep. Variable:</th>       <td>desempenho</td>    <th>  R-squared:         </th> <td>   0.025</td>\n",
       "</tr>\n",
       "<tr>\n",
       "  <th>Model:</th>                   <td>OLS</td>       <th>  Adj. R-squared:    </th> <td>   0.024</td>\n",
       "</tr>\n",
       "<tr>\n",
       "  <th>Method:</th>             <td>Least Squares</td>  <th>  F-statistic:       </th> <td>   25.63</td>\n",
       "</tr>\n",
       "<tr>\n",
       "  <th>Date:</th>             <td>Mon, 08 Nov 2021</td> <th>  Prob (F-statistic):</th> <td>4.89e-07</td>\n",
       "</tr>\n",
       "<tr>\n",
       "  <th>Time:</th>                 <td>14:31:08</td>     <th>  Log-Likelihood:    </th> <td> -1387.8</td>\n",
       "</tr>\n",
       "<tr>\n",
       "  <th>No. Observations:</th>      <td>  1021</td>      <th>  AIC:               </th> <td>   2780.</td>\n",
       "</tr>\n",
       "<tr>\n",
       "  <th>Df Residuals:</th>          <td>  1019</td>      <th>  BIC:               </th> <td>   2789.</td>\n",
       "</tr>\n",
       "<tr>\n",
       "  <th>Df Model:</th>              <td>     1</td>      <th>                     </th>     <td> </td>   \n",
       "</tr>\n",
       "<tr>\n",
       "  <th>Covariance Type:</th>      <td>nonrobust</td>    <th>                     </th>     <td> </td>   \n",
       "</tr>\n",
       "</table>\n",
       "<table class=\"simpletable\">\n",
       "<tr>\n",
       "           <td></td>              <th>coef</th>     <th>std err</th>      <th>t</th>      <th>P>|t|</th>  <th>[0.025</th>    <th>0.975]</th>  \n",
       "</tr>\n",
       "<tr>\n",
       "  <th>Intercept</th>           <td>    7.8854</td> <td>    0.183</td> <td>   43.001</td> <td> 0.000</td> <td>    7.526</td> <td>    8.245</td>\n",
       "</tr>\n",
       "<tr>\n",
       "  <th>np.log(betweenness)</th> <td>    0.0836</td> <td>    0.017</td> <td>    5.063</td> <td> 0.000</td> <td>    0.051</td> <td>    0.116</td>\n",
       "</tr>\n",
       "</table>\n",
       "<table class=\"simpletable\">\n",
       "<tr>\n",
       "  <th>Omnibus:</th>       <td>55.815</td> <th>  Durbin-Watson:     </th> <td>   1.860</td>\n",
       "</tr>\n",
       "<tr>\n",
       "  <th>Prob(Omnibus):</th> <td> 0.000</td> <th>  Jarque-Bera (JB):  </th> <td>  65.392</td>\n",
       "</tr>\n",
       "<tr>\n",
       "  <th>Skew:</th>          <td>-0.558</td> <th>  Prob(JB):          </th> <td>6.31e-15</td>\n",
       "</tr>\n",
       "<tr>\n",
       "  <th>Kurtosis:</th>      <td> 3.540</td> <th>  Cond. No.          </th> <td>    69.5</td>\n",
       "</tr>\n",
       "</table><br/><br/>Notes:<br/>[1] Standard Errors assume that the covariance matrix of the errors is correctly specified."
      ],
      "text/plain": [
       "<class 'statsmodels.iolib.summary.Summary'>\n",
       "\"\"\"\n",
       "                            OLS Regression Results                            \n",
       "==============================================================================\n",
       "Dep. Variable:             desempenho   R-squared:                       0.025\n",
       "Model:                            OLS   Adj. R-squared:                  0.024\n",
       "Method:                 Least Squares   F-statistic:                     25.63\n",
       "Date:                Mon, 08 Nov 2021   Prob (F-statistic):           4.89e-07\n",
       "Time:                        14:31:08   Log-Likelihood:                -1387.8\n",
       "No. Observations:                1021   AIC:                             2780.\n",
       "Df Residuals:                    1019   BIC:                             2789.\n",
       "Df Model:                           1                                         \n",
       "Covariance Type:            nonrobust                                         \n",
       "=======================================================================================\n",
       "                          coef    std err          t      P>|t|      [0.025      0.975]\n",
       "---------------------------------------------------------------------------------------\n",
       "Intercept               7.8854      0.183     43.001      0.000       7.526       8.245\n",
       "np.log(betweenness)     0.0836      0.017      5.063      0.000       0.051       0.116\n",
       "==============================================================================\n",
       "Omnibus:                       55.815   Durbin-Watson:                   1.860\n",
       "Prob(Omnibus):                  0.000   Jarque-Bera (JB):               65.392\n",
       "Skew:                          -0.558   Prob(JB):                     6.31e-15\n",
       "Kurtosis:                       3.540   Cond. No.                         69.5\n",
       "==============================================================================\n",
       "\n",
       "Notes:\n",
       "[1] Standard Errors assume that the covariance matrix of the errors is correctly specified.\n",
       "\"\"\""
      ]
     },
     "execution_count": 30,
     "metadata": {},
     "output_type": "execute_result"
    }
   ],
   "source": [
    "model = smf.ols(data=a, formula='desempenho ~ np.log(betweenness)')\n",
    "result = model.fit()\n",
    "result.summary()"
   ]
  },
  {
   "cell_type": "markdown",
   "id": "6051893a",
   "metadata": {},
   "source": [
    "Como esperado após a análise dos gráficos, o R² é bem pequeno quando queremos explicar o desempenho levando em conta o __betweenness__. Além disso, podemos ver que o coeficiente é positivo, indicando que existe uma relação positiva, no entanto, o _p\\_valor_ é muito grande, ou seja, não podemos rejeitar a hipótese nula de que não há relação."
   ]
  },
  {
   "cell_type": "markdown",
   "id": "8b5f5404",
   "metadata": {},
   "source": [
    "### Diversidade"
   ]
  },
  {
   "cell_type": "code",
   "execution_count": 37,
   "id": "a34d565b",
   "metadata": {},
   "outputs": [
    {
     "data": {
      "text/plain": [
       "<AxesSubplot:xlabel='clustering', ylabel='desempenho'>"
      ]
     },
     "execution_count": 37,
     "metadata": {},
     "output_type": "execute_result"
    },
    {
     "data": {
      "image/png": "[encoded data removed]",
      "text/plain": [
       "<Figure size 432x288 with 1 Axes>"
      ]
     },
     "metadata": {},
     "output_type": "display_data"
    }
   ],
   "source": [
    "sns.regplot(x=a['clustering'], y=a['desempenho']) # % dos vizinhos conectados entre si \n",
    "\n",
    "# colocar como variavel de controle -> degree"
   ]
  },
  {
   "cell_type": "code",
   "execution_count": 35,
   "id": "b93d2615",
   "metadata": {
    "scrolled": false
   },
   "outputs": [
    {
     "data": {
      "text/html": [
       "<table class=\"simpletable\">\n",
       "<caption>OLS Regression Results</caption>\n",
       "<tr>\n",
       "  <th>Dep. Variable:</th>       <td>desempenho</td>    <th>  R-squared:         </th> <td>   0.018</td>\n",
       "</tr>\n",
       "<tr>\n",
       "  <th>Model:</th>                   <td>OLS</td>       <th>  Adj. R-squared:    </th> <td>   0.017</td>\n",
       "</tr>\n",
       "<tr>\n",
       "  <th>Method:</th>             <td>Least Squares</td>  <th>  F-statistic:       </th> <td>   18.53</td>\n",
       "</tr>\n",
       "<tr>\n",
       "  <th>Date:</th>             <td>Mon, 08 Nov 2021</td> <th>  Prob (F-statistic):</th> <td>1.83e-05</td>\n",
       "</tr>\n",
       "<tr>\n",
       "  <th>Time:</th>                 <td>14:41:59</td>     <th>  Log-Likelihood:    </th> <td> -1391.3</td>\n",
       "</tr>\n",
       "<tr>\n",
       "  <th>No. Observations:</th>      <td>  1021</td>      <th>  AIC:               </th> <td>   2787.</td>\n",
       "</tr>\n",
       "<tr>\n",
       "  <th>Df Residuals:</th>          <td>  1019</td>      <th>  BIC:               </th> <td>   2796.</td>\n",
       "</tr>\n",
       "<tr>\n",
       "  <th>Df Model:</th>              <td>     1</td>      <th>                     </th>     <td> </td>   \n",
       "</tr>\n",
       "<tr>\n",
       "  <th>Covariance Type:</th>      <td>nonrobust</td>    <th>                     </th>     <td> </td>   \n",
       "</tr>\n",
       "</table>\n",
       "<table class=\"simpletable\">\n",
       "<tr>\n",
       "       <td></td>         <th>coef</th>     <th>std err</th>      <th>t</th>      <th>P>|t|</th>  <th>[0.025</th>    <th>0.975]</th>  \n",
       "</tr>\n",
       "<tr>\n",
       "  <th>Intercept</th>  <td>    7.4163</td> <td>    0.108</td> <td>   68.648</td> <td> 0.000</td> <td>    7.204</td> <td>    7.628</td>\n",
       "</tr>\n",
       "<tr>\n",
       "  <th>clustering</th> <td>   -0.7246</td> <td>    0.168</td> <td>   -4.305</td> <td> 0.000</td> <td>   -1.055</td> <td>   -0.394</td>\n",
       "</tr>\n",
       "</table>\n",
       "<table class=\"simpletable\">\n",
       "<tr>\n",
       "  <th>Omnibus:</th>       <td>67.576</td> <th>  Durbin-Watson:     </th> <td>   1.871</td>\n",
       "</tr>\n",
       "<tr>\n",
       "  <th>Prob(Omnibus):</th> <td> 0.000</td> <th>  Jarque-Bera (JB):  </th> <td>  81.979</td>\n",
       "</tr>\n",
       "<tr>\n",
       "  <th>Skew:</th>          <td>-0.621</td> <th>  Prob(JB):          </th> <td>1.58e-18</td>\n",
       "</tr>\n",
       "<tr>\n",
       "  <th>Kurtosis:</th>      <td> 3.619</td> <th>  Cond. No.          </th> <td>    7.90</td>\n",
       "</tr>\n",
       "</table><br/><br/>Notes:<br/>[1] Standard Errors assume that the covariance matrix of the errors is correctly specified."
      ],
      "text/plain": [
       "<class 'statsmodels.iolib.summary.Summary'>\n",
       "\"\"\"\n",
       "                            OLS Regression Results                            \n",
       "==============================================================================\n",
       "Dep. Variable:             desempenho   R-squared:                       0.018\n",
       "Model:                            OLS   Adj. R-squared:                  0.017\n",
       "Method:                 Least Squares   F-statistic:                     18.53\n",
       "Date:                Mon, 08 Nov 2021   Prob (F-statistic):           1.83e-05\n",
       "Time:                        14:41:59   Log-Likelihood:                -1391.3\n",
       "No. Observations:                1021   AIC:                             2787.\n",
       "Df Residuals:                    1019   BIC:                             2796.\n",
       "Df Model:                           1                                         \n",
       "Covariance Type:            nonrobust                                         \n",
       "==============================================================================\n",
       "                 coef    std err          t      P>|t|      [0.025      0.975]\n",
       "------------------------------------------------------------------------------\n",
       "Intercept      7.4163      0.108     68.648      0.000       7.204       7.628\n",
       "clustering    -0.7246      0.168     -4.305      0.000      -1.055      -0.394\n",
       "==============================================================================\n",
       "Omnibus:                       67.576   Durbin-Watson:                   1.871\n",
       "Prob(Omnibus):                  0.000   Jarque-Bera (JB):               81.979\n",
       "Skew:                          -0.621   Prob(JB):                     1.58e-18\n",
       "Kurtosis:                       3.619   Cond. No.                         7.90\n",
       "==============================================================================\n",
       "\n",
       "Notes:\n",
       "[1] Standard Errors assume that the covariance matrix of the errors is correctly specified.\n",
       "\"\"\""
      ]
     },
     "execution_count": 35,
     "metadata": {},
     "output_type": "execute_result"
    }
   ],
   "source": [
    "model = smf.ols(data=a, formula='desempenho ~ clustering')\n",
    "result = model.fit()\n",
    "result.summary()"
   ]
  },
  {
   "cell_type": "markdown",
   "id": "e5040411",
   "metadata": {},
   "source": [
    "O R² é desprezível quando queremos explicar o __desempenho__ levando em conta o __clustering__. Além disso, podemos ver que o coeficiente é negativo, indicando que existe uma relação negativa, no entanto, o _p\\_valor_ é muito grande, ou seja, também não podemos rejeitar a hipótese nula de que não há relação."
   ]
  },
  {
   "cell_type": "markdown",
   "id": "f5efe918",
   "metadata": {},
   "source": [
    "Após analisarmos individualmente a contribuição de cada variável, decidimos testar o impacto da combinação das duas no desempenho do filme."
   ]
  },
  {
   "cell_type": "code",
   "execution_count": 36,
   "id": "91ca5889",
   "metadata": {},
   "outputs": [
    {
     "data": {
      "text/html": [
       "<table class=\"simpletable\">\n",
       "<caption>OLS Regression Results</caption>\n",
       "<tr>\n",
       "  <th>Dep. Variable:</th>       <td>desempenho</td>    <th>  R-squared:         </th> <td>   0.025</td>\n",
       "</tr>\n",
       "<tr>\n",
       "  <th>Model:</th>                   <td>OLS</td>       <th>  Adj. R-squared:    </th> <td>   0.023</td>\n",
       "</tr>\n",
       "<tr>\n",
       "  <th>Method:</th>             <td>Least Squares</td>  <th>  F-statistic:       </th> <td>   12.88</td>\n",
       "</tr>\n",
       "<tr>\n",
       "  <th>Date:</th>             <td>Mon, 08 Nov 2021</td> <th>  Prob (F-statistic):</th> <td>2.98e-06</td>\n",
       "</tr>\n",
       "<tr>\n",
       "  <th>Time:</th>                 <td>14:42:02</td>     <th>  Log-Likelihood:    </th> <td> -1387.7</td>\n",
       "</tr>\n",
       "<tr>\n",
       "  <th>No. Observations:</th>      <td>  1021</td>      <th>  AIC:               </th> <td>   2781.</td>\n",
       "</tr>\n",
       "<tr>\n",
       "  <th>Df Residuals:</th>          <td>  1018</td>      <th>  BIC:               </th> <td>   2796.</td>\n",
       "</tr>\n",
       "<tr>\n",
       "  <th>Df Model:</th>              <td>     2</td>      <th>                     </th>     <td> </td>   \n",
       "</tr>\n",
       "<tr>\n",
       "  <th>Covariance Type:</th>      <td>nonrobust</td>    <th>                     </th>     <td> </td>   \n",
       "</tr>\n",
       "</table>\n",
       "<table class=\"simpletable\">\n",
       "<tr>\n",
       "           <td></td>              <th>coef</th>     <th>std err</th>      <th>t</th>      <th>P>|t|</th>  <th>[0.025</th>    <th>0.975]</th>  \n",
       "</tr>\n",
       "<tr>\n",
       "  <th>Intercept</th>           <td>    7.8570</td> <td>    0.197</td> <td>   39.862</td> <td> 0.000</td> <td>    7.470</td> <td>    8.244</td>\n",
       "</tr>\n",
       "<tr>\n",
       "  <th>np.log(betweenness)</th> <td>    0.0747</td> <td>    0.028</td> <td>    2.670</td> <td> 0.008</td> <td>    0.020</td> <td>    0.130</td>\n",
       "</tr>\n",
       "<tr>\n",
       "  <th>clustering</th>          <td>   -0.1121</td> <td>    0.284</td> <td>   -0.394</td> <td> 0.693</td> <td>   -0.670</td> <td>    0.446</td>\n",
       "</tr>\n",
       "</table>\n",
       "<table class=\"simpletable\">\n",
       "<tr>\n",
       "  <th>Omnibus:</th>       <td>56.921</td> <th>  Durbin-Watson:     </th> <td>   1.861</td>\n",
       "</tr>\n",
       "<tr>\n",
       "  <th>Prob(Omnibus):</th> <td> 0.000</td> <th>  Jarque-Bera (JB):  </th> <td>  66.897</td>\n",
       "</tr>\n",
       "<tr>\n",
       "  <th>Skew:</th>          <td>-0.564</td> <th>  Prob(JB):          </th> <td>2.97e-15</td>\n",
       "</tr>\n",
       "<tr>\n",
       "  <th>Kurtosis:</th>      <td> 3.547</td> <th>  Cond. No.          </th> <td>    113.</td>\n",
       "</tr>\n",
       "</table><br/><br/>Notes:<br/>[1] Standard Errors assume that the covariance matrix of the errors is correctly specified."
      ],
      "text/plain": [
       "<class 'statsmodels.iolib.summary.Summary'>\n",
       "\"\"\"\n",
       "                            OLS Regression Results                            \n",
       "==============================================================================\n",
       "Dep. Variable:             desempenho   R-squared:                       0.025\n",
       "Model:                            OLS   Adj. R-squared:                  0.023\n",
       "Method:                 Least Squares   F-statistic:                     12.88\n",
       "Date:                Mon, 08 Nov 2021   Prob (F-statistic):           2.98e-06\n",
       "Time:                        14:42:02   Log-Likelihood:                -1387.7\n",
       "No. Observations:                1021   AIC:                             2781.\n",
       "Df Residuals:                    1018   BIC:                             2796.\n",
       "Df Model:                           2                                         \n",
       "Covariance Type:            nonrobust                                         \n",
       "=======================================================================================\n",
       "                          coef    std err          t      P>|t|      [0.025      0.975]\n",
       "---------------------------------------------------------------------------------------\n",
       "Intercept               7.8570      0.197     39.862      0.000       7.470       8.244\n",
       "np.log(betweenness)     0.0747      0.028      2.670      0.008       0.020       0.130\n",
       "clustering             -0.1121      0.284     -0.394      0.693      -0.670       0.446\n",
       "==============================================================================\n",
       "Omnibus:                       56.921   Durbin-Watson:                   1.861\n",
       "Prob(Omnibus):                  0.000   Jarque-Bera (JB):               66.897\n",
       "Skew:                          -0.564   Prob(JB):                     2.97e-15\n",
       "Kurtosis:                       3.547   Cond. No.                         113.\n",
       "==============================================================================\n",
       "\n",
       "Notes:\n",
       "[1] Standard Errors assume that the covariance matrix of the errors is correctly specified.\n",
       "\"\"\""
      ]
     },
     "execution_count": 36,
     "metadata": {},
     "output_type": "execute_result"
    }
   ],
   "source": [
    "model = smf.ols(data=a, formula='desempenho ~ np.log(betweenness) + clustering')\n",
    "result = model.fit()\n",
    "result.summary()"
   ]
  },
  {
   "cell_type": "markdown",
   "id": "df2578f1",
   "metadata": {},
   "source": [
    "Pelo que se pode observar, a contribuição da combinação das variáveis não parece ser suficiente para explicar o desempenho de um filme. A combinação dos coeficientes com seus respectivos _p\\_valores_ continua ruim, no entanto, podemos ver uma melhoria ínfima no R²."
   ]
  },
  {
   "cell_type": "markdown",
   "id": "44735c47",
   "metadata": {},
   "source": [
    "Portanto, dado que a hipótese era que, de alguma forma, o __agrupamento__ e a __diversidade__ explicavam o __desempenho__, pode-se dizer que a hipótese não se comprova estatisticamente ou que precisaríamos de um refinamento melhor no modelo."
   ]
  }
 ],
 "metadata": {
  "kernelspec": {
   "display_name": "Python 3 (ipykernel)",
   "language": "python",
   "name": "python3"
  },
  "language_info": {
   "codemirror_mode": {
    "name": "ipython",
    "version": 3
   },
   "file_extension": ".py",
   "mimetype": "text/x-python",
   "name": "python",
   "nbconvert_exporter": "python",
   "pygments_lexer": "ipython3",
   "version": "3.7.11"
  }
 },
 "nbformat": 4,
 "nbformat_minor": 5
}
